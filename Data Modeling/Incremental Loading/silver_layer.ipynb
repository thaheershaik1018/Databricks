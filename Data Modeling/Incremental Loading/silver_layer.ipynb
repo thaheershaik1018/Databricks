{
 "cells": [
  {
   "cell_type": "code",
   "execution_count": 0,
   "metadata": {
    "application/vnd.databricks.v1+cell": {
     "cellMetadata": {
      "byteLimit": 2048000,
      "rowLimit": 10000
     },
     "inputWidgets": {},
     "nuid": "9b9b477d-1d13-46f0-9890-924fa5d38112",
     "showTitle": false,
     "tableResultSettingsMap": {},
     "title": ""
    }
   },
   "outputs": [],
   "source": [
    "spark.sql(\"\"\"select *,upper(customer_name) as uppercase_name,\n",
    "          current_timestamp() as process_date,\n",
    "          split(customer_name,\" \")[0] as first_name,\n",
    "          split(customer_name,\" \")[1] as last_name from data_modeling.bronze.bronze_table\n",
    "          \"\"\").createOrReplaceTempView(\"silver_source\")"
   ]
  },
  {
   "cell_type": "code",
   "execution_count": 0,
   "metadata": {
    "application/vnd.databricks.v1+cell": {
     "cellMetadata": {
      "byteLimit": 2048000,
      "rowLimit": 10000
     },
     "inputWidgets": {},
     "nuid": "167ec92d-8fba-4ebf-ae59-21baa1f94b23",
     "showTitle": false,
     "tableResultSettingsMap": {},
     "title": ""
    }
   },
   "outputs": [],
   "source": [
    "if spark.catalog.tableExists(\"data_modeling.silver.silver_table\"):\n",
    "    pass\n",
    "else:\n",
    "    spark.sql(\"create table if not exists data_modeling.silver.silver_table as select * from silver_source\")"
   ]
  },
  {
   "cell_type": "code",
   "execution_count": 0,
   "metadata": {
    "application/vnd.databricks.v1+cell": {
     "cellMetadata": {
      "byteLimit": 2048000,
      "implicitDf": true,
      "rowLimit": 10000
     },
     "inputWidgets": {},
     "nuid": "8aba3bb0-897f-4900-922d-b99d98cd22d2",
     "showTitle": false,
     "tableResultSettingsMap": {},
     "title": ""
    }
   },
   "outputs": [
    {
     "output_type": "display_data",
     "data": {
      "text/html": [
       "<style scoped>\n",
       "  .table-result-container {\n",
       "    max-height: 300px;\n",
       "    overflow: auto;\n",
       "  }\n",
       "  table, th, td {\n",
       "    border: 1px solid black;\n",
       "    border-collapse: collapse;\n",
       "  }\n",
       "  th, td {\n",
       "    padding: 5px;\n",
       "  }\n",
       "  th {\n",
       "    text-align: left;\n",
       "  }\n",
       "</style><div class='table-result-container'><table class='table-result'><thead style='background-color: white'><tr><th>num_affected_rows</th><th>num_updated_rows</th><th>num_deleted_rows</th><th>num_inserted_rows</th></tr></thead><tbody><tr><td>1</td><td>0</td><td>0</td><td>1</td></tr></tbody></table></div>"
      ]
     },
     "metadata": {
      "application/vnd.databricks.v1+output": {
       "addedWidgets": {},
       "aggData": [],
       "aggError": "",
       "aggOverflow": false,
       "aggSchema": [],
       "aggSeriesLimitReached": false,
       "aggType": "",
       "arguments": {},
       "columnCustomDisplayInfos": {},
       "data": [
        [
         1,
         0,
         0,
         1
        ]
       ],
       "datasetInfos": [
        {
         "name": "_sqldf",
         "schema": {
          "fields": [
           {
            "metadata": {},
            "name": "num_affected_rows",
            "nullable": true,
            "type": "long"
           },
           {
            "metadata": {},
            "name": "num_updated_rows",
            "nullable": true,
            "type": "long"
           },
           {
            "metadata": {},
            "name": "num_deleted_rows",
            "nullable": true,
            "type": "long"
           },
           {
            "metadata": {},
            "name": "num_inserted_rows",
            "nullable": true,
            "type": "long"
           }
          ],
          "type": "struct"
         },
         "tableIdentifier": null,
         "typeStr": "pyspark.sql.connect.dataframe.DataFrame"
        }
       ],
       "dbfsResultPath": null,
       "isJsonSchema": true,
       "metadata": {
        "createTempViewForImplicitDf": true,
        "dataframeName": "_sqldf",
        "executionCount": 104
       },
       "overflow": false,
       "plotOptions": {
        "customPlotOptions": {},
        "displayType": "table",
        "pivotAggregation": null,
        "pivotColumns": null,
        "xColumns": null,
        "yColumns": null
       },
       "removedWidgets": [],
       "schema": [
        {
         "metadata": "{}",
         "name": "num_affected_rows",
         "type": "\"long\""
        },
        {
         "metadata": "{}",
         "name": "num_updated_rows",
         "type": "\"long\""
        },
        {
         "metadata": "{}",
         "name": "num_deleted_rows",
         "type": "\"long\""
        },
        {
         "metadata": "{}",
         "name": "num_inserted_rows",
         "type": "\"long\""
        }
       ],
       "type": "table"
      }
     },
     "output_type": "display_data"
    }
   ],
   "source": [
    "%sql\n",
    "merge into data_modeling.silver.silver_table\n",
    "using silver_source\n",
    "on data_modeling.silver.silver_table.Order_id = silver_source.Order_id\n",
    "when matched then update set *\n",
    "when not matched then insert *"
   ]
  },
  {
   "cell_type": "code",
   "execution_count": 0,
   "metadata": {
    "application/vnd.databricks.v1+cell": {
     "cellMetadata": {
      "byteLimit": 2048000,
      "rowLimit": 10000
     },
     "inputWidgets": {},
     "nuid": "3f1a69f8-25f1-4045-ad48-a26b33b5e956",
     "showTitle": false,
     "tableResultSettingsMap": {},
     "title": ""
    }
   },
   "outputs": [
    {
     "output_type": "display_data",
     "data": {
      "text/html": [
       "<style scoped>\n",
       "  .table-result-container {\n",
       "    max-height: 300px;\n",
       "    overflow: auto;\n",
       "  }\n",
       "  table, th, td {\n",
       "    border: 1px solid black;\n",
       "    border-collapse: collapse;\n",
       "  }\n",
       "  th, td {\n",
       "    padding: 5px;\n",
       "  }\n",
       "  th {\n",
       "    text-align: left;\n",
       "  }\n",
       "</style><div class='table-result-container'><table class='table-result'><thead style='background-color: white'><tr><th>Order_id</th><th>order_date</th><th>customer_id</th><th>customer_name</th><th>custmoer_email</th><th>product_id</th><th>product_name</th><th>product_category</th><th>quantity</th><th>unit_price</th><th>payment_type</th><th>country</th><th>last_updated</th><th>uppercase_name</th><th>process_date</th><th>first_name</th><th>last_name</th></tr></thead><tbody><tr><td>1001</td><td>2024-07-01</td><td>1</td><td>Alice johnson</td><td>alice@gmail.com</td><td>501</td><td>iphone 14</td><td>electronics</td><td>1</td><td>999.99</td><td>credit card</td><td>USA</td><td>2024-07-01</td><td>ALICE JOHNSON</td><td>2025-07-14T12:00:03.238Z</td><td>Alice</td><td>johnson</td></tr><tr><td>1002</td><td>2024-07-01</td><td>2</td><td>Bob Smith</td><td>bob@yahoo.com</td><td>502</td><td>airpods pro</td><td>electronics</td><td>2</td><td>199.99</td><td>paypal</td><td>USA</td><td>2024-07-01</td><td>BOB SMITH</td><td>2025-07-14T12:00:03.238Z</td><td>Bob</td><td>Smith</td></tr><tr><td>1003</td><td>2024-07-01</td><td>3</td><td>Charlie Brown</td><td>charlie@hotmail.com</td><td>503</td><td>nike shoes</td><td>footware</td><td>1</td><td>129.99</td><td>credit card</td><td>Canada</td><td>2024-07-01</td><td>CHARLIE BROWN</td><td>2025-07-14T12:00:03.238Z</td><td>Charlie</td><td>Brown</td></tr><tr><td>1004</td><td>2024-07-02</td><td>4</td><td>David Lee</td><td>david.lee@gmail.com</td><td>504</td><td>samsung galaxy s23</td><td>electronics</td><td>1</td><td>899.99</td><td>debit card</td><td>UK</td><td>2024-07-02</td><td>DAVID LEE</td><td>2025-07-14T12:20:22.028Z</td><td>David</td><td>Lee</td></tr><tr><td>1005</td><td>2024-07-02</td><td>5</td><td>Emma Watson</td><td>emma.watson@yahoo.com</td><td>505</td><td>adidas sneakers</td><td>footware</td><td>2</td><td>149.99</td><td>paypal</td><td>Australia</td><td>2024-07-02</td><td>EMMA WATSON</td><td>2025-07-14T12:20:22.028Z</td><td>Emma</td><td>Watson</td></tr><tr><td>1006</td><td>2024-07-02</td><td>6</td><td>Frank Miller</td><td>frank.miller@hotmail.com</td><td>506</td><td>sony headphones</td><td>electronics</td><td>1</td><td>249.99</td><td>credit card</td><td>USA</td><td>2024-07-02</td><td>FRANK MILLER</td><td>2025-07-14T12:20:22.028Z</td><td>Frank</td><td>Miller</td></tr><tr><td>1007</td><td>2024-07-03</td><td>5</td><td>Rock Lee</td><td>rock.lee@gmail.com</td><td>507</td><td>asus rog lap</td><td>electronics</td><td>1</td><td>899.99</td><td>debit card</td><td>UK</td><td>2024-07-03</td><td>ROCK LEE</td><td>2025-07-14T12:20:22.028Z</td><td>Rock</td><td>Lee</td></tr><tr><td>1009</td><td>2024-07-04</td><td>99</td><td>naruto uzumaki</td><td>naru.uzu@gmail.com</td><td>508</td><td>asus rog lap</td><td>electronics</td><td>1</td><td>899.99</td><td>debit card</td><td>JPN</td><td>2024-07-04</td><td>NARUTO UZUMAKI</td><td>2025-07-14T12:33:41.618Z</td><td>naruto</td><td>uzumaki</td></tr></tbody></table></div>"
      ]
     },
     "metadata": {
      "application/vnd.databricks.v1+output": {
       "addedWidgets": {},
       "aggData": [],
       "aggError": "",
       "aggOverflow": false,
       "aggSchema": [],
       "aggSeriesLimitReached": false,
       "aggType": "",
       "arguments": {},
       "columnCustomDisplayInfos": {},
       "data": [
        [
         1001,
         "2024-07-01",
         1,
         "Alice johnson",
         "alice@gmail.com",
         501,
         "iphone 14",
         "electronics",
         1,
         "999.99",
         "credit card",
         "USA",
         "2024-07-01",
         "ALICE JOHNSON",
         "2025-07-14T12:00:03.238Z",
         "Alice",
         "johnson"
        ],
        [
         1002,
         "2024-07-01",
         2,
         "Bob Smith",
         "bob@yahoo.com",
         502,
         "airpods pro",
         "electronics",
         2,
         "199.99",
         "paypal",
         "USA",
         "2024-07-01",
         "BOB SMITH",
         "2025-07-14T12:00:03.238Z",
         "Bob",
         "Smith"
        ],
        [
         1003,
         "2024-07-01",
         3,
         "Charlie Brown",
         "charlie@hotmail.com",
         503,
         "nike shoes",
         "footware",
         1,
         "129.99",
         "credit card",
         "Canada",
         "2024-07-01",
         "CHARLIE BROWN",
         "2025-07-14T12:00:03.238Z",
         "Charlie",
         "Brown"
        ],
        [
         1004,
         "2024-07-02",
         4,
         "David Lee",
         "david.lee@gmail.com",
         504,
         "samsung galaxy s23",
         "electronics",
         1,
         "899.99",
         "debit card",
         "UK",
         "2024-07-02",
         "DAVID LEE",
         "2025-07-14T12:20:22.028Z",
         "David",
         "Lee"
        ],
        [
         1005,
         "2024-07-02",
         5,
         "Emma Watson",
         "emma.watson@yahoo.com",
         505,
         "adidas sneakers",
         "footware",
         2,
         "149.99",
         "paypal",
         "Australia",
         "2024-07-02",
         "EMMA WATSON",
         "2025-07-14T12:20:22.028Z",
         "Emma",
         "Watson"
        ],
        [
         1006,
         "2024-07-02",
         6,
         "Frank Miller",
         "frank.miller@hotmail.com",
         506,
         "sony headphones",
         "electronics",
         1,
         "249.99",
         "credit card",
         "USA",
         "2024-07-02",
         "FRANK MILLER",
         "2025-07-14T12:20:22.028Z",
         "Frank",
         "Miller"
        ],
        [
         1007,
         "2024-07-03",
         5,
         "Rock Lee",
         "rock.lee@gmail.com",
         507,
         "asus rog lap",
         "electronics",
         1,
         "899.99",
         "debit card",
         "UK",
         "2024-07-03",
         "ROCK LEE",
         "2025-07-14T12:20:22.028Z",
         "Rock",
         "Lee"
        ],
        [
         1009,
         "2024-07-04",
         99,
         "naruto uzumaki",
         "naru.uzu@gmail.com",
         508,
         "asus rog lap",
         "electronics",
         1,
         "899.99",
         "debit card",
         "JPN",
         "2024-07-04",
         "NARUTO UZUMAKI",
         "2025-07-14T12:33:41.618Z",
         "naruto",
         "uzumaki"
        ]
       ],
       "datasetInfos": [],
       "dbfsResultPath": null,
       "isJsonSchema": true,
       "metadata": {},
       "overflow": false,
       "plotOptions": {
        "customPlotOptions": {},
        "displayType": "table",
        "pivotAggregation": null,
        "pivotColumns": null,
        "xColumns": null,
        "yColumns": null
       },
       "removedWidgets": [],
       "schema": [
        {
         "metadata": "{}",
         "name": "Order_id",
         "type": "\"integer\""
        },
        {
         "metadata": "{}",
         "name": "order_date",
         "type": "\"date\""
        },
        {
         "metadata": "{}",
         "name": "customer_id",
         "type": "\"integer\""
        },
        {
         "metadata": "{\"__CHAR_VARCHAR_TYPE_STRING\": \"varchar(100)\"}",
         "name": "customer_name",
         "type": "\"string\""
        },
        {
         "metadata": "{\"__CHAR_VARCHAR_TYPE_STRING\": \"varchar(100)\"}",
         "name": "custmoer_email",
         "type": "\"string\""
        },
        {
         "metadata": "{}",
         "name": "product_id",
         "type": "\"integer\""
        },
        {
         "metadata": "{\"__CHAR_VARCHAR_TYPE_STRING\": \"varchar(100)\"}",
         "name": "product_name",
         "type": "\"string\""
        },
        {
         "metadata": "{\"__CHAR_VARCHAR_TYPE_STRING\": \"varchar(50)\"}",
         "name": "product_category",
         "type": "\"string\""
        },
        {
         "metadata": "{}",
         "name": "quantity",
         "type": "\"integer\""
        },
        {
         "metadata": "{}",
         "name": "unit_price",
         "type": "\"decimal(10,2)\""
        },
        {
         "metadata": "{\"__CHAR_VARCHAR_TYPE_STRING\": \"varchar(50)\"}",
         "name": "payment_type",
         "type": "\"string\""
        },
        {
         "metadata": "{\"__CHAR_VARCHAR_TYPE_STRING\": \"varchar(50)\"}",
         "name": "country",
         "type": "\"string\""
        },
        {
         "metadata": "{}",
         "name": "last_updated",
         "type": "\"date\""
        },
        {
         "metadata": "{}",
         "name": "uppercase_name",
         "type": "\"string\""
        },
        {
         "metadata": "{}",
         "name": "process_date",
         "type": "\"timestamp\""
        },
        {
         "metadata": "{}",
         "name": "first_name",
         "type": "\"string\""
        },
        {
         "metadata": "{}",
         "name": "last_name",
         "type": "\"string\""
        }
       ],
       "type": "table"
      }
     },
     "output_type": "display_data"
    }
   ],
   "source": [
    "spark.table(\"data_modeling.silver.silver_table\").display()"
   ]
  }
 ],
 "metadata": {
  "application/vnd.databricks.v1+notebook": {
   "computePreferences": null,
   "dashboards": [],
   "environmentMetadata": {
    "base_environment": "",
    "environment_version": "2"
   },
   "inputWidgetPreferences": null,
   "language": "python",
   "notebookMetadata": {
    "mostRecentlyExecutedCommandWithImplicitDF": {
     "commandId": 7392854794969310,
     "dataframes": [
      "_sqldf"
     ]
    },
    "pythonIndentUnit": 4
   },
   "notebookName": "silver_layer",
   "widgets": {}
  },
  "language_info": {
   "name": "python"
  }
 },
 "nbformat": 4,
 "nbformat_minor": 0
}