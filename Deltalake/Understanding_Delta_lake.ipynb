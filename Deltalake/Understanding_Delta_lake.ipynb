{
 "cells": [
  {
   "cell_type": "markdown",
   "metadata": {
    "application/vnd.databricks.v1+cell": {
     "cellMetadata": {},
     "inputWidgets": {},
     "nuid": "35d4d7e3-03db-4d10-ac45-9e32f7c64913",
     "showTitle": false,
     "tableResultSettingsMap": {},
     "title": ""
    }
   },
   "source": [
    "# Introduction to Delta Lake\n"
   ]
  },
  {
   "cell_type": "markdown",
   "metadata": {
    "application/vnd.databricks.v1+cell": {
     "cellMetadata": {},
     "inputWidgets": {},
     "nuid": "eb0f9b37-31f4-4e71-8021-62df073c7db9",
     "showTitle": false,
     "tableResultSettingsMap": {},
     "title": ""
    }
   },
   "source": [
    "Delta Lake is an open-source storage layer that brings ACID transactions, scalable metadata handling, and unified batch and streaming data processing to data lakes. It works on top of existing Apache Spark and data lake storage (e.g., ADLS, S3, HDFS) to provide reliability and performance improvements over traditional data lakes."
   ]
  },
  {
   "cell_type": "markdown",
   "metadata": {
    "application/vnd.databricks.v1+cell": {
     "cellMetadata": {},
     "inputWidgets": {},
     "nuid": "3b8dd567-b939-4b2a-a197-563700cfa77b",
     "showTitle": false,
     "tableResultSettingsMap": {},
     "title": ""
    }
   },
   "source": [
    "**key features**\n",
    "- ACID Transactions: Ensures data reliability with atomicity, consistency, isolation, and durability.\n",
    "- Schema Enforcement: Prevents bad data from corrupting your tables.\n",
    "- Schema Evolution: Allows automatic schema updates as data changes.\n",
    "- Time Travel: Enables data versioning with the ability to query old data (VERSION AS OF or TIMESTAMP AS OF).\n",
    "- Unified Batch & Streaming: Supports both types of workloads on the same data.\n",
    "- Data Lineage & Audit: Every change is tracked in the transaction log (_delta_log), helping with traceability."
   ]
  },
  {
   "cell_type": "markdown",
   "metadata": {
    "application/vnd.databricks.v1+cell": {
     "cellMetadata": {},
     "inputWidgets": {},
     "nuid": "85c5d4fc-551e-4ac5-94f3-d07e422f647b",
     "showTitle": false,
     "tableResultSettingsMap": {},
     "title": ""
    }
   },
   "source": [
    "**how does it achieves the delta format** <br>\n",
    "Delta Lake uses a transaction log (stored in the _delta_log folder) to track changes to data files. Each write creates a new version of the table with atomic changes.\n",
    "Data is stored in Parquet files\n",
    "The _delta_log directory stores JSON logs for every transaction\n",
    "Delta tables can be queried just like regular tables using Spark SQL or PySpark"
   ]
  },
  {
   "cell_type": "code",
   "execution_count": 0,
   "metadata": {
    "application/vnd.databricks.v1+cell": {
     "cellMetadata": {
      "byteLimit": 2048000,
      "rowLimit": 10000
     },
     "inputWidgets": {},
     "nuid": "07930606-1fa6-46dc-92a4-8ff149e22849",
     "showTitle": false,
     "tableResultSettingsMap": {},
     "title": ""
    }
   },
   "outputs": [
    {
     "output_type": "display_data",
     "data": {
      "text/html": [
       "<style scoped>\n",
       "  .table-result-container {\n",
       "    max-height: 300px;\n",
       "    overflow: auto;\n",
       "  }\n",
       "  table, th, td {\n",
       "    border: 1px solid black;\n",
       "    border-collapse: collapse;\n",
       "  }\n",
       "  th, td {\n",
       "    padding: 5px;\n",
       "  }\n",
       "  th {\n",
       "    text-align: left;\n",
       "  }\n",
       "</style><div class='table-result-container'><table class='table-result'><thead style='background-color: white'><tr><th>name</th><th>list_of_items</th></tr></thead><tbody><tr><td>Alice</td><td>List(apple, banana, cherry)</td></tr><tr><td>Bob</td><td>List(orange, grape, melon)</td></tr><tr><td>Charlie</td><td>List(pear, kiwi, mango)</td></tr></tbody></table></div>"
      ]
     },
     "metadata": {
      "application/vnd.databricks.v1+output": {
       "addedWidgets": {},
       "aggData": [],
       "aggError": "",
       "aggOverflow": false,
       "aggSchema": [],
       "aggSeriesLimitReached": false,
       "aggType": "",
       "arguments": {},
       "columnCustomDisplayInfos": {},
       "data": [
        [
         "Alice",
         [
          "apple",
          "banana",
          "cherry"
         ]
        ],
        [
         "Bob",
         [
          "orange",
          "grape",
          "melon"
         ]
        ],
        [
         "Charlie",
         [
          "pear",
          "kiwi",
          "mango"
         ]
        ]
       ],
       "datasetInfos": [],
       "dbfsResultPath": null,
       "isJsonSchema": true,
       "metadata": {},
       "overflow": false,
       "plotOptions": {
        "customPlotOptions": {},
        "displayType": "table",
        "pivotAggregation": null,
        "pivotColumns": null,
        "xColumns": null,
        "yColumns": null
       },
       "removedWidgets": [],
       "schema": [
        {
         "metadata": "{}",
         "name": "name",
         "type": "\"string\""
        },
        {
         "metadata": "{}",
         "name": "list_of_items",
         "type": "{\"containsNull\":true,\"elementType\":\"string\",\"type\":\"array\"}"
        }
       ],
       "type": "table"
      }
     },
     "output_type": "display_data"
    }
   ],
   "source": [
    "from pyspark.sql import Row\n",
    "\n",
    "# Create a list of Rows\n",
    "data = [\n",
    "    Row(name=\"Alice\", list_of_items=[\"apple\", \"banana\", \"cherry\"]),\n",
    "    Row(name=\"Bob\", list_of_items=[\"orange\", \"grape\", \"melon\"]),\n",
    "    Row(name=\"Charlie\", list_of_items=[\"pear\", \"kiwi\", \"mango\"])\n",
    "]\n",
    "\n",
    "# Create a DataFrame\n",
    "df = spark.createDataFrame(data)\n",
    "\n",
    "# Display the DataFrame\n",
    "display(df)"
   ]
  },
  {
   "cell_type": "code",
   "execution_count": 0,
   "metadata": {
    "application/vnd.databricks.v1+cell": {
     "cellMetadata": {
      "byteLimit": 2048000,
      "rowLimit": 10000
     },
     "inputWidgets": {},
     "nuid": "4306cd22-be8b-4f77-a7de-daef568f77af",
     "showTitle": false,
     "tableResultSettingsMap": {},
     "title": ""
    }
   },
   "outputs": [
    {
     "output_type": "display_data",
     "data": {
      "text/html": [
       "<style scoped>\n",
       "  .table-result-container {\n",
       "    max-height: 300px;\n",
       "    overflow: auto;\n",
       "  }\n",
       "  table, th, td {\n",
       "    border: 1px solid black;\n",
       "    border-collapse: collapse;\n",
       "  }\n",
       "  th, td {\n",
       "    padding: 5px;\n",
       "  }\n",
       "  th {\n",
       "    text-align: left;\n",
       "  }\n",
       "</style><div class='table-result-container'><table class='table-result'><thead style='background-color: white'><tr><th>name</th><th>col</th></tr></thead><tbody><tr><td>Alice</td><td>apple</td></tr><tr><td>Alice</td><td>banana</td></tr><tr><td>Alice</td><td>cherry</td></tr><tr><td>Bob</td><td>orange</td></tr><tr><td>Bob</td><td>grape</td></tr><tr><td>Bob</td><td>melon</td></tr><tr><td>Charlie</td><td>pear</td></tr><tr><td>Charlie</td><td>kiwi</td></tr><tr><td>Charlie</td><td>mango</td></tr></tbody></table></div>"
      ]
     },
     "metadata": {
      "application/vnd.databricks.v1+output": {
       "addedWidgets": {},
       "aggData": [],
       "aggError": "",
       "aggOverflow": false,
       "aggSchema": [],
       "aggSeriesLimitReached": false,
       "aggType": "",
       "arguments": {},
       "columnCustomDisplayInfos": {},
       "data": [
        [
         "Alice",
         "apple"
        ],
        [
         "Alice",
         "banana"
        ],
        [
         "Alice",
         "cherry"
        ],
        [
         "Bob",
         "orange"
        ],
        [
         "Bob",
         "grape"
        ],
        [
         "Bob",
         "melon"
        ],
        [
         "Charlie",
         "pear"
        ],
        [
         "Charlie",
         "kiwi"
        ],
        [
         "Charlie",
         "mango"
        ]
       ],
       "datasetInfos": [],
       "dbfsResultPath": null,
       "isJsonSchema": true,
       "metadata": {},
       "overflow": false,
       "plotOptions": {
        "customPlotOptions": {},
        "displayType": "table",
        "pivotAggregation": null,
        "pivotColumns": null,
        "xColumns": null,
        "yColumns": null
       },
       "removedWidgets": [],
       "schema": [
        {
         "metadata": "{}",
         "name": "name",
         "type": "\"string\""
        },
        {
         "metadata": "{}",
         "name": "col",
         "type": "\"string\""
        }
       ],
       "type": "table"
      }
     },
     "output_type": "display_data"
    }
   ],
   "source": [
    "from pyspark.sql.functions import explode\n",
    "new_df=df.select(df.name,explode(df.list_of_items))\n",
    "display(new_df)"
   ]
  },
  {
   "cell_type": "markdown",
   "metadata": {
    "application/vnd.databricks.v1+cell": {
     "cellMetadata": {},
     "inputWidgets": {},
     "nuid": "753bc2bd-b3c7-49ba-9206-3897ef554de6",
     "showTitle": false,
     "tableResultSettingsMap": {},
     "title": ""
    }
   },
   "source": [
    "# Volume\n",
    "Volumes are Unity Catalog objects representing a logical volume of storage in a cloud object storage location. Volumes provide capabilities for accessing, storing, governing, and organizing files. While tables provide governance over tabular datasets, volumes add governance over non-tabular datasets. You can use volumes to store and access files in any format, including structured, semi-structured, and unstructured data."
   ]
  },
  {
   "cell_type": "markdown",
   "metadata": {
    "application/vnd.databricks.v1+cell": {
     "cellMetadata": {},
     "inputWidgets": {},
     "nuid": "3aa02996-086b-4ac4-9afb-2d7cf44c6edb",
     "showTitle": false,
     "tableResultSettingsMap": {},
     "title": ""
    }
   },
   "source": [
    "**Saving the df into delta fromat in managed volumes**"
   ]
  },
  {
   "cell_type": "code",
   "execution_count": 0,
   "metadata": {
    "application/vnd.databricks.v1+cell": {
     "cellMetadata": {
      "byteLimit": 2048000,
      "rowLimit": 10000
     },
     "inputWidgets": {},
     "nuid": "7b7afb9b-3c5d-48ef-9759-44ea46b00ac1",
     "showTitle": false,
     "tableResultSettingsMap": {},
     "title": ""
    }
   },
   "outputs": [],
   "source": [
    "new_df.write.format(\"delta\").mode(\"overwrite\").option(\"mergeSchema\", \"true\").save(\"/Volumes/workspace/default/new_volume\")"
   ]
  },
  {
   "cell_type": "markdown",
   "metadata": {
    "application/vnd.databricks.v1+cell": {
     "cellMetadata": {},
     "inputWidgets": {},
     "nuid": "dbc7f16a-15ef-4407-887d-a853e400c0b9",
     "showTitle": false,
     "tableResultSettingsMap": {},
     "title": ""
    }
   },
   "source": [
    "**When you save a DataFrame in Delta format, Delta Lake stores data in a combination of Parquet files and a _delta_log folder inside the directory you specified.**"
   ]
  },
  {
   "cell_type": "code",
   "execution_count": 0,
   "metadata": {
    "application/vnd.databricks.v1+cell": {
     "cellMetadata": {
      "byteLimit": 2048000,
      "rowLimit": 10000
     },
     "inputWidgets": {},
     "nuid": "c67e7321-db54-45bc-aa5a-1832d87156c4",
     "showTitle": false,
     "tableResultSettingsMap": {},
     "title": ""
    }
   },
   "outputs": [
    {
     "output_type": "stream",
     "name": "stdout",
     "output_type": "stream",
     "text": [
      "+-------+------+----+\n|   name|   col|nums|\n+-------+------+----+\n|  Alice| apple|  10|\n|  Alice|banana|  10|\n|  Alice|cherry|  10|\n|    Bob|orange|  10|\n|    Bob| grape|  10|\n|    Bob| melon|  10|\n|Charlie|  pear|  10|\n|Charlie|  kiwi|  10|\n|Charlie| mango|  10|\n+-------+------+----+\n\n"
     ]
    }
   ],
   "source": [
    "from pyspark.sql.functions import lit\n",
    "\n",
    "nums = 10  # Define the variable nums\n",
    "new_df = new_df.withColumn(\"nums\", lit(nums))\n",
    "new_df.show()"
   ]
  },
  {
   "cell_type": "markdown",
   "metadata": {
    "application/vnd.databricks.v1+cell": {
     "cellMetadata": {},
     "inputWidgets": {},
     "nuid": "f1a32a2a-b762-4a1c-a6d4-81124245a181",
     "showTitle": false,
     "tableResultSettingsMap": {},
     "title": ""
    }
   },
   "source": [
    "# the deltalog\n",
    "\n",
    "** _delta_log/ – Transaction Log (Delta Table Metadata)**\n",
    "\n",
    "\n",
    "- This folder contains the transaction history and metadata of your Delta table.\n",
    "- It is what enables ACID transactions, schema enforcement, time travel, and more.\n",
    "the json files kepps the track of of data over time\n"
   ]
  },
  {
   "cell_type": "code",
   "execution_count": 0,
   "metadata": {
    "application/vnd.databricks.v1+cell": {
     "cellMetadata": {
      "byteLimit": 2048000,
      "rowLimit": 10000
     },
     "inputWidgets": {},
     "nuid": "e515decf-4ffc-49b5-9f2c-318a74cb7e54",
     "showTitle": false,
     "tableResultSettingsMap": {},
     "title": ""
    }
   },
   "outputs": [
    {
     "output_type": "display_data",
     "data": {
      "text/html": [
       "<style scoped>\n",
       "  .table-result-container {\n",
       "    max-height: 300px;\n",
       "    overflow: auto;\n",
       "  }\n",
       "  table, th, td {\n",
       "    border: 1px solid black;\n",
       "    border-collapse: collapse;\n",
       "  }\n",
       "  th, td {\n",
       "    padding: 5px;\n",
       "  }\n",
       "  th {\n",
       "    text-align: left;\n",
       "  }\n",
       "</style><div class='table-result-container'><table class='table-result'><thead style='background-color: white'><tr><th>add</th><th>commitInfo</th><th>metaData</th></tr></thead><tbody><tr><td>null</td><td>List(0711-072404-mijs91ih-v2n, Databricks-Runtime/16.4.x-aarch64-photon-scala2.12, true, WriteSerializable, WRITE, List(1, 1141, 9), List(Append, [], false), 0, List(true, false), 1752222138652, 76d863b7-4a9c-4f91-b13e-67ea2d5e1a3c, 3444117624069686, shaikmohammadthaheer@gmail.com)</td><td>null</td></tr><tr><td>null</td><td>null</td><td>List(List(true), 1752221537105, List(parquet), 9bc9e51a-77ed-407f-8910-36fe6fd26e9d, List(), {\"type\":\"struct\",\"fields\":[{\"name\":\"name\",\"type\":\"string\",\"nullable\":true,\"metadata\":{}},{\"name\":\"col\",\"type\":\"string\",\"nullable\":true,\"metadata\":{}},{\"name\":\"nums\",\"type\":\"integer\",\"nullable\":true,\"metadata\":{}}]})</td></tr><tr><td>List(true, 1752222139000, part-00000-45681a2a-c446-4066-9efd-2029834a4f74.c000.snappy.parquet, 1141, {\"numRecords\":9,\"minValues\":{\"name\":\"Alice\",\"col\":\"apple\",\"nums\":10},\"maxValues\":{\"name\":\"Charlie\",\"col\":\"pear\",\"nums\":10},\"nullCount\":{\"name\":0,\"col\":0,\"nums\":0},\"tightBounds\":true}, List(1752222139000000, 1752222139000000, 1752222139000000, 268435456))</td><td>null</td><td>null</td></tr></tbody></table></div>"
      ]
     },
     "metadata": {
      "application/vnd.databricks.v1+output": {
       "addedWidgets": {},
       "aggData": [],
       "aggError": "",
       "aggOverflow": false,
       "aggSchema": [],
       "aggSeriesLimitReached": false,
       "aggType": "",
       "arguments": {},
       "columnCustomDisplayInfos": {},
       "data": [
        [
         null,
         [
          "0711-072404-mijs91ih-v2n",
          "Databricks-Runtime/16.4.x-aarch64-photon-scala2.12",
          true,
          "WriteSerializable",
          "WRITE",
          [
           "1",
           "1141",
           "9"
          ],
          [
           "Append",
           "[]",
           false
          ],
          0,
          [
           "true",
           "false"
          ],
          1752222138652,
          "76d863b7-4a9c-4f91-b13e-67ea2d5e1a3c",
          "3444117624069686",
          "shaikmohammadthaheer@gmail.com"
         ],
         null
        ],
        [
         null,
         null,
         [
          [
           "true"
          ],
          1752221537105,
          [
           "parquet"
          ],
          "9bc9e51a-77ed-407f-8910-36fe6fd26e9d",
          [],
          "{\"type\":\"struct\",\"fields\":[{\"name\":\"name\",\"type\":\"string\",\"nullable\":true,\"metadata\":{}},{\"name\":\"col\",\"type\":\"string\",\"nullable\":true,\"metadata\":{}},{\"name\":\"nums\",\"type\":\"integer\",\"nullable\":true,\"metadata\":{}}]}"
         ]
        ],
        [
         [
          true,
          1752222139000,
          "part-00000-45681a2a-c446-4066-9efd-2029834a4f74.c000.snappy.parquet",
          1141,
          "{\"numRecords\":9,\"minValues\":{\"name\":\"Alice\",\"col\":\"apple\",\"nums\":10},\"maxValues\":{\"name\":\"Charlie\",\"col\":\"pear\",\"nums\":10},\"nullCount\":{\"name\":0,\"col\":0,\"nums\":0},\"tightBounds\":true}",
          [
           "1752222139000000",
           "1752222139000000",
           "1752222139000000",
           "268435456"
          ]
         ],
         null,
         null
        ]
       ],
       "datasetInfos": [],
       "dbfsResultPath": null,
       "isJsonSchema": true,
       "metadata": {},
       "overflow": false,
       "plotOptions": {
        "customPlotOptions": {},
        "displayType": "table",
        "pivotAggregation": null,
        "pivotColumns": null,
        "xColumns": null,
        "yColumns": null
       },
       "removedWidgets": [],
       "schema": [
        {
         "metadata": "{}",
         "name": "add",
         "type": "{\"fields\":[{\"metadata\":{},\"name\":\"dataChange\",\"nullable\":true,\"type\":\"boolean\"},{\"metadata\":{},\"name\":\"modificationTime\",\"nullable\":true,\"type\":\"long\"},{\"metadata\":{},\"name\":\"path\",\"nullable\":true,\"type\":\"string\"},{\"metadata\":{},\"name\":\"size\",\"nullable\":true,\"type\":\"long\"},{\"metadata\":{},\"name\":\"stats\",\"nullable\":true,\"type\":\"string\"},{\"metadata\":{},\"name\":\"tags\",\"nullable\":true,\"type\":{\"fields\":[{\"metadata\":{},\"name\":\"INSERTION_TIME\",\"nullable\":true,\"type\":\"string\"},{\"metadata\":{},\"name\":\"MAX_INSERTION_TIME\",\"nullable\":true,\"type\":\"string\"},{\"metadata\":{},\"name\":\"MIN_INSERTION_TIME\",\"nullable\":true,\"type\":\"string\"},{\"metadata\":{},\"name\":\"OPTIMIZE_TARGET_SIZE\",\"nullable\":true,\"type\":\"string\"}],\"type\":\"struct\"}}],\"type\":\"struct\"}"
        },
        {
         "metadata": "{}",
         "name": "commitInfo",
         "type": "{\"fields\":[{\"metadata\":{},\"name\":\"clusterId\",\"nullable\":true,\"type\":\"string\"},{\"metadata\":{},\"name\":\"engineInfo\",\"nullable\":true,\"type\":\"string\"},{\"metadata\":{},\"name\":\"isBlindAppend\",\"nullable\":true,\"type\":\"boolean\"},{\"metadata\":{},\"name\":\"isolationLevel\",\"nullable\":true,\"type\":\"string\"},{\"metadata\":{},\"name\":\"operation\",\"nullable\":true,\"type\":\"string\"},{\"metadata\":{},\"name\":\"operationMetrics\",\"nullable\":true,\"type\":{\"fields\":[{\"metadata\":{},\"name\":\"numFiles\",\"nullable\":true,\"type\":\"string\"},{\"metadata\":{},\"name\":\"numOutputBytes\",\"nullable\":true,\"type\":\"string\"},{\"metadata\":{},\"name\":\"numOutputRows\",\"nullable\":true,\"type\":\"string\"}],\"type\":\"struct\"}},{\"metadata\":{},\"name\":\"operationParameters\",\"nullable\":true,\"type\":{\"fields\":[{\"metadata\":{},\"name\":\"mode\",\"nullable\":true,\"type\":\"string\"},{\"metadata\":{},\"name\":\"partitionBy\",\"nullable\":true,\"type\":\"string\"},{\"metadata\":{},\"name\":\"statsOnLoad\",\"nullable\":true,\"type\":\"boolean\"}],\"type\":\"struct\"}},{\"metadata\":{},\"name\":\"readVersion\",\"nullable\":true,\"type\":\"long\"},{\"metadata\":{},\"name\":\"tags\",\"nullable\":true,\"type\":{\"fields\":[{\"metadata\":{},\"name\":\"noRowsCopied\",\"nullable\":true,\"type\":\"string\"},{\"metadata\":{},\"name\":\"restoresDeletedRows\",\"nullable\":true,\"type\":\"string\"}],\"type\":\"struct\"}},{\"metadata\":{},\"name\":\"timestamp\",\"nullable\":true,\"type\":\"long\"},{\"metadata\":{},\"name\":\"txnId\",\"nullable\":true,\"type\":\"string\"},{\"metadata\":{},\"name\":\"userId\",\"nullable\":true,\"type\":\"string\"},{\"metadata\":{},\"name\":\"userName\",\"nullable\":true,\"type\":\"string\"}],\"type\":\"struct\"}"
        },
        {
         "metadata": "{}",
         "name": "metaData",
         "type": "{\"fields\":[{\"metadata\":{},\"name\":\"configuration\",\"nullable\":true,\"type\":{\"fields\":[{\"metadata\":{},\"name\":\"delta.enableDeletionVectors\",\"nullable\":true,\"type\":\"string\"}],\"type\":\"struct\"}},{\"metadata\":{},\"name\":\"createdTime\",\"nullable\":true,\"type\":\"long\"},{\"metadata\":{},\"name\":\"format\",\"nullable\":true,\"type\":{\"fields\":[{\"metadata\":{},\"name\":\"provider\",\"nullable\":true,\"type\":\"string\"}],\"type\":\"struct\"}},{\"metadata\":{},\"name\":\"id\",\"nullable\":true,\"type\":\"string\"},{\"metadata\":{},\"name\":\"partitionColumns\",\"nullable\":true,\"type\":{\"containsNull\":true,\"elementType\":\"string\",\"type\":\"array\"}},{\"metadata\":{},\"name\":\"schemaString\",\"nullable\":true,\"type\":\"string\"}],\"type\":\"struct\"}"
        }
       ],
       "type": "table"
      }
     },
     "output_type": "display_data"
    }
   ],
   "source": [
    "spark.read.format(\"json\").load(\"/Volumes/workspace/default/new_volume/_delta_log/00000000000000000001.json\").display()"
   ]
  },
  {
   "cell_type": "markdown",
   "metadata": {
    "application/vnd.databricks.v1+cell": {
     "cellMetadata": {},
     "inputWidgets": {},
     "nuid": "97676345-de55-4432-bde5-46b685055f1e",
     "showTitle": false,
     "tableResultSettingsMap": {},
     "title": ""
    }
   },
   "source": [
    "## \uD83D\uDCDA Managed Tables vs External Tables in Delta Lake / Databricks\n",
    "\n",
    "Delta tables can be created as either **Managed** or **External**, depending on how storage is controlled.\n",
    "\n",
    "---\n",
    "\n",
    "### \uD83C\uDFE0 Managed Tables (Internal Tables)\n",
    "\n",
    "- The **metastore fully manages** both the metadata and the data files.\n",
    "- The data is stored in the default warehouse location (e.g., DBFS).\n",
    "- When you **drop the table**, both the **metadata and the data files are deleted**.\n",
    "- Suitable for quick development, internal workflows, and temporary data.\n",
    "\n",
    "#### ✅ When to Use Managed Tables\n",
    "\n",
    "- You don’t need to manage the physical data path.\n",
    "- You want everything stored and cleaned up automatically by Databricks.\n",
    "- You’re working on prototypes, internal projects, or sandbox environments.\n",
    "\n",
    "---\n",
    "\n",
    "### \uD83D\uDCE6 External Tables\n",
    "\n",
    "- You **define the storage path** (e.g., S3, ADLS, or Volume).\n",
    "- Only the **table metadata** is stored in the metastore.\n",
    "- When you **drop the table**, only the metadata is deleted — the **actual data files remain**.\n",
    "- Ideal for production systems, shared storage, or external data management.\n",
    "\n",
    "#### ✅ When to Use External Tables\n",
    "\n",
    "- You want full control over where and how the data is stored.\n",
    "- You're using **cloud storage** like S3, ADLS, or Unity Catalog Volumes.\n",
    "- You need to **preserve the data even after dropping the table**, or share it across workspaces or tools.\n",
    "\n",
    "---\n",
    "\n",
    "### \uD83D\uDD04 Summary Table\n",
    "\n",
    "| Feature                  | Managed Table             | External Table                     |\n",
    "|--------------------------|---------------------------|-------------------------------------|\n",
    "| Data storage location    | Managed automatically      | You specify the path               |\n",
    "| Data ownership           | Databricks/metastore       | You (S3, ADLS, Volumes, etc.)      |\n",
    "| Drop table effect        | Deletes both data & metadata | Deletes metadata only             |\n",
    "| Best for                 | Internal/temporary data    | External/long-term/shared storage  |\n",
    "\n"
   ]
  },
  {
   "cell_type": "markdown",
   "metadata": {
    "application/vnd.databricks.v1+cell": {
     "cellMetadata": {},
     "inputWidgets": {},
     "nuid": "5775b809-adab-4ea3-83b7-385b1fe861b7",
     "showTitle": false,
     "tableResultSettingsMap": {},
     "title": ""
    }
   },
   "source": [
    "# Read Data from delta"
   ]
  },
  {
   "cell_type": "code",
   "execution_count": 0,
   "metadata": {
    "application/vnd.databricks.v1+cell": {
     "cellMetadata": {
      "byteLimit": 2048000,
      "rowLimit": 10000
     },
     "inputWidgets": {},
     "nuid": "10ffe72a-e378-4de3-a69c-1ff110582e8b",
     "showTitle": false,
     "tableResultSettingsMap": {},
     "title": ""
    }
   },
   "outputs": [
    {
     "output_type": "display_data",
     "data": {
      "text/html": [
       "<style scoped>\n",
       "  .table-result-container {\n",
       "    max-height: 300px;\n",
       "    overflow: auto;\n",
       "  }\n",
       "  table, th, td {\n",
       "    border: 1px solid black;\n",
       "    border-collapse: collapse;\n",
       "  }\n",
       "  th, td {\n",
       "    padding: 5px;\n",
       "  }\n",
       "  th {\n",
       "    text-align: left;\n",
       "  }\n",
       "</style><div class='table-result-container'><table class='table-result'><thead style='background-color: white'><tr><th>name</th><th>col</th><th>nums</th></tr></thead><tbody><tr><td>Alice</td><td>apple</td><td>10</td></tr><tr><td>Alice</td><td>banana</td><td>10</td></tr><tr><td>Alice</td><td>cherry</td><td>10</td></tr><tr><td>Bob</td><td>orange</td><td>10</td></tr><tr><td>Bob</td><td>grape</td><td>10</td></tr><tr><td>Bob</td><td>melon</td><td>10</td></tr><tr><td>Charlie</td><td>pear</td><td>10</td></tr><tr><td>Charlie</td><td>kiwi</td><td>10</td></tr><tr><td>Charlie</td><td>mango</td><td>10</td></tr></tbody></table></div>"
      ]
     },
     "metadata": {
      "application/vnd.databricks.v1+output": {
       "addedWidgets": {},
       "aggData": [],
       "aggError": "",
       "aggOverflow": false,
       "aggSchema": [],
       "aggSeriesLimitReached": false,
       "aggType": "",
       "arguments": {},
       "columnCustomDisplayInfos": {},
       "data": [
        [
         "Alice",
         "apple",
         10
        ],
        [
         "Alice",
         "banana",
         10
        ],
        [
         "Alice",
         "cherry",
         10
        ],
        [
         "Bob",
         "orange",
         10
        ],
        [
         "Bob",
         "grape",
         10
        ],
        [
         "Bob",
         "melon",
         10
        ],
        [
         "Charlie",
         "pear",
         10
        ],
        [
         "Charlie",
         "kiwi",
         10
        ],
        [
         "Charlie",
         "mango",
         10
        ]
       ],
       "datasetInfos": [],
       "dbfsResultPath": null,
       "isJsonSchema": true,
       "metadata": {},
       "overflow": false,
       "plotOptions": {
        "customPlotOptions": {},
        "displayType": "table",
        "pivotAggregation": null,
        "pivotColumns": null,
        "xColumns": null,
        "yColumns": null
       },
       "removedWidgets": [],
       "schema": [
        {
         "metadata": "{}",
         "name": "name",
         "type": "\"string\""
        },
        {
         "metadata": "{}",
         "name": "col",
         "type": "\"string\""
        },
        {
         "metadata": "{}",
         "name": "nums",
         "type": "\"integer\""
        }
       ],
       "type": "table"
      }
     },
     "output_type": "display_data"
    }
   ],
   "source": [
    "spark.read.format(\"delta\").load(\"/Volumes/workspace/default/new_volume\").display()"
   ]
  },
  {
   "cell_type": "markdown",
   "metadata": {
    "application/vnd.databricks.v1+cell": {
     "cellMetadata": {},
     "inputWidgets": {},
     "nuid": "6614495e-7366-4147-8754-4337d70f1e99",
     "showTitle": false,
     "tableResultSettingsMap": {},
     "title": ""
    }
   },
   "source": [
    "EVerytime if we try to do any rud and other operations it will create the new updated parquest files and json files in deltlog to keep the track of operations overtime "
   ]
  },
  {
   "cell_type": "markdown",
   "metadata": {
    "application/vnd.databricks.v1+cell": {
     "cellMetadata": {},
     "inputWidgets": {},
     "nuid": "43ff6a10-a757-42d7-9da1-e5f25765f83e",
     "showTitle": false,
     "tableResultSettingsMap": {},
     "title": ""
    }
   },
   "source": [
    "# \uD83D\uDD01 What is Versioning in Delta Lake?\n",
    "When you write, update, or delete data in a Delta Lake table, Delta Lake creates a new version of the table (also called a snapshot). These versions are stored as metadata files in the _delta_log/ directory of the table.\n",
    "\n",
    "Each commit (like an insert or update) increases the version number"
   ]
  },
  {
   "cell_type": "code",
   "execution_count": 0,
   "metadata": {
    "application/vnd.databricks.v1+cell": {
     "cellMetadata": {
      "byteLimit": 2048000,
      "implicitDf": true,
      "rowLimit": 10000
     },
     "inputWidgets": {},
     "nuid": "b0e752b2-3eda-48e8-9dc7-7766b8717ef1",
     "showTitle": false,
     "tableResultSettingsMap": {},
     "title": ""
    }
   },
   "outputs": [
    {
     "output_type": "display_data",
     "data": {
      "text/html": [
       "<style scoped>\n",
       "  .table-result-container {\n",
       "    max-height: 300px;\n",
       "    overflow: auto;\n",
       "  }\n",
       "  table, th, td {\n",
       "    border: 1px solid black;\n",
       "    border-collapse: collapse;\n",
       "  }\n",
       "  th, td {\n",
       "    padding: 5px;\n",
       "  }\n",
       "  th {\n",
       "    text-align: left;\n",
       "  }\n",
       "</style><div class='table-result-container'><table class='table-result'><thead style='background-color: white'><tr><th>name</th><th>col</th><th>nums</th></tr></thead><tbody><tr><td>Alice</td><td>apple</td><td>10</td></tr><tr><td>Alice</td><td>banana</td><td>10</td></tr><tr><td>Alice</td><td>cherry</td><td>10</td></tr><tr><td>Bob</td><td>orange</td><td>10</td></tr><tr><td>Bob</td><td>grape</td><td>10</td></tr><tr><td>Bob</td><td>melon</td><td>10</td></tr><tr><td>Charlie</td><td>pear</td><td>10</td></tr><tr><td>Charlie</td><td>kiwi</td><td>10</td></tr><tr><td>Charlie</td><td>mango</td><td>10</td></tr></tbody></table></div>"
      ]
     },
     "metadata": {
      "application/vnd.databricks.v1+output": {
       "addedWidgets": {},
       "aggData": [],
       "aggError": "",
       "aggOverflow": false,
       "aggSchema": [],
       "aggSeriesLimitReached": false,
       "aggType": "",
       "arguments": {},
       "columnCustomDisplayInfos": {},
       "data": [
        [
         "Alice",
         "apple",
         10
        ],
        [
         "Alice",
         "banana",
         10
        ],
        [
         "Alice",
         "cherry",
         10
        ],
        [
         "Bob",
         "orange",
         10
        ],
        [
         "Bob",
         "grape",
         10
        ],
        [
         "Bob",
         "melon",
         10
        ],
        [
         "Charlie",
         "pear",
         10
        ],
        [
         "Charlie",
         "kiwi",
         10
        ],
        [
         "Charlie",
         "mango",
         10
        ]
       ],
       "datasetInfos": [
        {
         "name": "_sqldf",
         "schema": {
          "fields": [
           {
            "metadata": {},
            "name": "name",
            "nullable": true,
            "type": "string"
           },
           {
            "metadata": {},
            "name": "col",
            "nullable": true,
            "type": "string"
           },
           {
            "metadata": {},
            "name": "nums",
            "nullable": true,
            "type": "integer"
           }
          ],
          "type": "struct"
         },
         "tableIdentifier": null,
         "typeStr": "pyspark.sql.connect.dataframe.DataFrame"
        }
       ],
       "dbfsResultPath": null,
       "isJsonSchema": true,
       "metadata": {
        "createTempViewForImplicitDf": true,
        "dataframeName": "_sqldf",
        "executionCount": 15
       },
       "overflow": false,
       "plotOptions": {
        "customPlotOptions": {},
        "displayType": "table",
        "pivotAggregation": null,
        "pivotColumns": null,
        "xColumns": null,
        "yColumns": null
       },
       "removedWidgets": [],
       "schema": [
        {
         "metadata": "{}",
         "name": "name",
         "type": "\"string\""
        },
        {
         "metadata": "{}",
         "name": "col",
         "type": "\"string\""
        },
        {
         "metadata": "{}",
         "name": "nums",
         "type": "\"integer\""
        }
       ],
       "type": "table"
      }
     },
     "output_type": "display_data"
    }
   ],
   "source": [
    "%sql\n",
    "SELECT * FROM delta.`/Volumes/workspace/default/new_volume` VERSION AS OF 4"
   ]
  },
  {
   "cell_type": "markdown",
   "metadata": {
    "application/vnd.databricks.v1+cell": {
     "cellMetadata": {},
     "inputWidgets": {},
     "nuid": "7973cf42-4bb8-441c-85a4-a15ea45f8ae7",
     "showTitle": false,
     "tableResultSettingsMap": {},
     "title": ""
    }
   },
   "source": [
    "# DML in Delta Lake"
   ]
  },
  {
   "cell_type": "code",
   "execution_count": 0,
   "metadata": {
    "application/vnd.databricks.v1+cell": {
     "cellMetadata": {
      "byteLimit": 2048000,
      "rowLimit": 10000
     },
     "inputWidgets": {},
     "nuid": "769bcc24-0be4-4479-b6f6-1e527ce4dac6",
     "showTitle": false,
     "tableResultSettingsMap": {},
     "title": ""
    }
   },
   "outputs": [
    {
     "output_type": "display_data",
     "data": {
      "text/html": [
       "<style scoped>\n",
       "  .table-result-container {\n",
       "    max-height: 300px;\n",
       "    overflow: auto;\n",
       "  }\n",
       "  table, th, td {\n",
       "    border: 1px solid black;\n",
       "    border-collapse: collapse;\n",
       "  }\n",
       "  th, td {\n",
       "    padding: 5px;\n",
       "  }\n",
       "  th {\n",
       "    text-align: left;\n",
       "  }\n",
       "</style><div class='table-result-container'><table class='table-result'><thead style='background-color: white'><tr><th>id</th><th>course</th><th>fee</th></tr></thead><tbody><tr><td>1</td><td>pip</td><td>3000</td></tr><tr><td>2</td><td>spark</td><td>4000</td></tr><tr><td>3</td><td>pyspark</td><td>4000</td></tr><tr><td>4</td><td>spark</td><td>5000</td></tr><tr><td>1</td><td>crip</td><td>30550</td></tr><tr><td>2</td><td>prick</td><td>40440</td></tr><tr><td>3</td><td>jack</td><td>400</td></tr><tr><td>4</td><td>loath</td><td>500</td></tr></tbody></table></div>"
      ]
     },
     "metadata": {
      "application/vnd.databricks.v1+output": {
       "addedWidgets": {},
       "aggData": [],
       "aggError": "",
       "aggOverflow": false,
       "aggSchema": [],
       "aggSeriesLimitReached": false,
       "aggType": "",
       "arguments": {},
       "columnCustomDisplayInfos": {},
       "data": [
        [
         1,
         "pip",
         3000
        ],
        [
         2,
         "spark",
         4000
        ],
        [
         3,
         "pyspark",
         4000
        ],
        [
         4,
         "spark",
         5000
        ],
        [
         1,
         "crip",
         30550
        ],
        [
         2,
         "prick",
         40440
        ],
        [
         3,
         "jack",
         400
        ],
        [
         4,
         "loath",
         500
        ]
       ],
       "datasetInfos": [],
       "dbfsResultPath": null,
       "isJsonSchema": true,
       "metadata": {},
       "overflow": false,
       "plotOptions": {
        "customPlotOptions": {},
        "displayType": "table",
        "pivotAggregation": null,
        "pivotColumns": null,
        "xColumns": null,
        "yColumns": null
       },
       "removedWidgets": [],
       "schema": [
        {
         "metadata": "{}",
         "name": "id",
         "type": "\"long\""
        },
        {
         "metadata": "{}",
         "name": "course",
         "type": "\"string\""
        },
        {
         "metadata": "{}",
         "name": "fee",
         "type": "\"long\""
        }
       ],
       "type": "table"
      }
     },
     "output_type": "display_data"
    }
   ],
   "source": [
    "data=[(1,\"crip\",30550,),(2,\"prick\",40440),(3,\"jack\",400),(4,\"loath\",500)]\n",
    "df=spark.createDataFrame(data,[\"id\",\"course\",\"fee\"])\n",
    "# df.write.format(\"delta\").mode(\"append\").save(\"/Volumes/workspace/default/DML\")\n",
    "spark.read.format(\"delta\").load(\"/Volumes/workspace/default/DML\").display()\n"
   ]
  },
  {
   "cell_type": "markdown",
   "metadata": {
    "application/vnd.databricks.v1+cell": {
     "cellMetadata": {},
     "inputWidgets": {},
     "nuid": "0dcae323-dbf0-428b-b5d4-2901d62e7449",
     "showTitle": false,
     "tableResultSettingsMap": {},
     "title": ""
    }
   },
   "source": [
    "# Update in delta lake"
   ]
  },
  {
   "cell_type": "code",
   "execution_count": 0,
   "metadata": {
    "application/vnd.databricks.v1+cell": {
     "cellMetadata": {
      "byteLimit": 2048000,
      "implicitDf": true,
      "rowLimit": 10000
     },
     "inputWidgets": {},
     "nuid": "699e41fe-19e0-41f5-8e1d-225303d01ec0",
     "showTitle": false,
     "tableResultSettingsMap": {},
     "title": ""
    }
   },
   "outputs": [
    {
     "output_type": "display_data",
     "data": {
      "text/html": [
       "<style scoped>\n",
       "  .table-result-container {\n",
       "    max-height: 300px;\n",
       "    overflow: auto;\n",
       "  }\n",
       "  table, th, td {\n",
       "    border: 1px solid black;\n",
       "    border-collapse: collapse;\n",
       "  }\n",
       "  th, td {\n",
       "    padding: 5px;\n",
       "  }\n",
       "  th {\n",
       "    text-align: left;\n",
       "  }\n",
       "</style><div class='table-result-container'><table class='table-result'><thead style='background-color: white'><tr><th>num_affected_rows</th></tr></thead><tbody><tr><td>2</td></tr></tbody></table></div>"
      ]
     },
     "metadata": {
      "application/vnd.databricks.v1+output": {
       "addedWidgets": {},
       "aggData": [],
       "aggError": "",
       "aggOverflow": false,
       "aggSchema": [],
       "aggSeriesLimitReached": false,
       "aggType": "",
       "arguments": {},
       "columnCustomDisplayInfos": {},
       "data": [
        [
         2
        ]
       ],
       "datasetInfos": [
        {
         "name": "_sqldf",
         "schema": {
          "fields": [
           {
            "metadata": {},
            "name": "num_affected_rows",
            "nullable": true,
            "type": "long"
           }
          ],
          "type": "struct"
         },
         "tableIdentifier": null,
         "typeStr": "pyspark.sql.connect.dataframe.DataFrame"
        }
       ],
       "dbfsResultPath": null,
       "isJsonSchema": true,
       "metadata": {
        "createTempViewForImplicitDf": true,
        "dataframeName": "_sqldf",
        "executionCount": 18
       },
       "overflow": false,
       "plotOptions": {
        "customPlotOptions": {},
        "displayType": "table",
        "pivotAggregation": null,
        "pivotColumns": null,
        "xColumns": null,
        "yColumns": null
       },
       "removedWidgets": [],
       "schema": [
        {
         "metadata": "{}",
         "name": "num_affected_rows",
         "type": "\"long\""
        }
       ],
       "type": "table"
      }
     },
     "output_type": "display_data"
    }
   ],
   "source": [
    "%sql\n",
    "update delta.`/Volumes/workspace/default/DML` \n",
    "set fee = '3005' where id = '1'"
   ]
  },
  {
   "cell_type": "code",
   "execution_count": 0,
   "metadata": {
    "application/vnd.databricks.v1+cell": {
     "cellMetadata": {
      "byteLimit": 2048000,
      "implicitDf": true,
      "rowLimit": 10000
     },
     "inputWidgets": {},
     "nuid": "8d004ef5-e291-4839-a6a2-fa0509044c22",
     "showTitle": false,
     "tableResultSettingsMap": {},
     "title": ""
    }
   },
   "outputs": [
    {
     "output_type": "display_data",
     "data": {
      "text/html": [
       "<style scoped>\n",
       "  .table-result-container {\n",
       "    max-height: 300px;\n",
       "    overflow: auto;\n",
       "  }\n",
       "  table, th, td {\n",
       "    border: 1px solid black;\n",
       "    border-collapse: collapse;\n",
       "  }\n",
       "  th, td {\n",
       "    padding: 5px;\n",
       "  }\n",
       "  th {\n",
       "    text-align: left;\n",
       "  }\n",
       "</style><div class='table-result-container'><table class='table-result'><thead style='background-color: white'><tr><th>num_affected_rows</th></tr></thead><tbody><tr><td>1</td></tr></tbody></table></div>"
      ]
     },
     "metadata": {
      "application/vnd.databricks.v1+output": {
       "addedWidgets": {},
       "aggData": [],
       "aggError": "",
       "aggOverflow": false,
       "aggSchema": [],
       "aggSeriesLimitReached": false,
       "aggType": "",
       "arguments": {},
       "columnCustomDisplayInfos": {},
       "data": [
        [
         1
        ]
       ],
       "datasetInfos": [
        {
         "name": "_sqldf",
         "schema": {
          "fields": [
           {
            "metadata": {},
            "name": "num_affected_rows",
            "nullable": true,
            "type": "long"
           }
          ],
          "type": "struct"
         },
         "tableIdentifier": null,
         "typeStr": "pyspark.sql.connect.dataframe.DataFrame"
        }
       ],
       "dbfsResultPath": null,
       "isJsonSchema": true,
       "metadata": {
        "createTempViewForImplicitDf": true,
        "dataframeName": "_sqldf",
        "executionCount": 2
       },
       "overflow": false,
       "plotOptions": {
        "customPlotOptions": {},
        "displayType": "table",
        "pivotAggregation": null,
        "pivotColumns": null,
        "xColumns": null,
        "yColumns": null
       },
       "removedWidgets": [],
       "schema": [
        {
         "metadata": "{}",
         "name": "num_affected_rows",
         "type": "\"long\""
        }
       ],
       "type": "table"
      }
     },
     "output_type": "display_data"
    }
   ],
   "source": [
    "%sql\n",
    "update delta.`/Volumes/workspace/default/DML` \n",
    "set course = 'pipt' where course = 'pip'"
   ]
  },
  {
   "cell_type": "markdown",
   "metadata": {
    "application/vnd.databricks.v1+cell": {
     "cellMetadata": {},
     "inputWidgets": {},
     "nuid": "a72c5efa-0d73-44dd-9dd1-feb2415980cf",
     "showTitle": false,
     "tableResultSettingsMap": {},
     "title": ""
    }
   },
   "source": [
    "# Deletion Vectors"
   ]
  },
  {
   "cell_type": "markdown",
   "metadata": {
    "application/vnd.databricks.v1+cell": {
     "cellMetadata": {},
     "inputWidgets": {},
     "nuid": "4cc5d1d0-2647-4c2d-a1cd-100eaa6aa64e",
     "showTitle": false,
     "tableResultSettingsMap": {},
     "title": ""
    }
   },
   "source": [
    "Deletion Vectors (DVs) are a feature in Delta Lake that allow rows to be logically deleted without rewriting the entire data file (Parquet). Instead of physically deleting rows, Delta Lake tracks deleted rows separately using vector files — making deletes faster and more efficient, especially for large datasets."
   ]
  },
  {
   "cell_type": "markdown",
   "metadata": {
    "application/vnd.databricks.v1+cell": {
     "cellMetadata": {},
     "inputWidgets": {},
     "nuid": "fdbe8aa2-dc7f-4b71-89ca-c996ae909d34",
     "showTitle": false,
     "tableResultSettingsMap": {},
     "title": ""
    }
   },
   "source": [
    "**To physically remove deleted data we use vaccum**"
   ]
  },
  {
   "cell_type": "markdown",
   "metadata": {
    "application/vnd.databricks.v1+cell": {
     "cellMetadata": {},
     "inputWidgets": {},
     "nuid": "dda27d2a-8414-402b-a0f2-0f6353946219",
     "showTitle": false,
     "tableResultSettingsMap": {},
     "title": ""
    }
   },
   "source": [
    "\n",
    "_Using MERGE operation in Delta Lake is an implementation upsert or  Slowly Changing Dimension (SCD1)_<br>\n",
    "**merge into sink using source**<br>\n",
    "**condtion** <br>\n",
    "**WHEN MATCHED THEN**<br>\n",
    " **UPDATE SET ...**<br>\n",
    "**WHEN NOT MATCHED THEN**<br>\n",
    "  **INSERT ...**"
   ]
  },
  {
   "cell_type": "markdown",
   "metadata": {
    "application/vnd.databricks.v1+cell": {
     "cellMetadata": {},
     "inputWidgets": {},
     "nuid": "01abc52f-5f78-436d-a2b9-6ec0d97fa25e",
     "showTitle": false,
     "tableResultSettingsMap": {},
     "title": ""
    }
   },
   "source": [
    "# In Python upsert"
   ]
  },
  {
   "cell_type": "code",
   "execution_count": 0,
   "metadata": {
    "application/vnd.databricks.v1+cell": {
     "cellMetadata": {
      "byteLimit": 2048000,
      "rowLimit": 10000
     },
     "inputWidgets": {},
     "nuid": "be0f0dad-ccfb-4fcf-b83d-67a6368cab18",
     "showTitle": false,
     "tableResultSettingsMap": {},
     "title": ""
    }
   },
   "outputs": [],
   "source": [
    "data=[(1,'python',5000),(6,'scala',10000),(7,'java',15000)]\n",
    "df=spark.createDataFrame(data,[\"id\",\"course\",\"fee\"])"
   ]
  },
  {
   "cell_type": "code",
   "execution_count": 0,
   "metadata": {
    "application/vnd.databricks.v1+cell": {
     "cellMetadata": {
      "byteLimit": 2048000,
      "rowLimit": 10000
     },
     "inputWidgets": {},
     "nuid": "76794b5a-7e9a-4284-a6b1-32d132905889",
     "showTitle": false,
     "tableResultSettingsMap": {},
     "title": ""
    }
   },
   "outputs": [
    {
     "output_type": "execute_result",
     "data": {
      "text/plain": [
       "DataFrame[num_affected_rows: bigint, num_updated_rows: bigint, num_deleted_rows: bigint, num_inserted_rows: bigint]"
      ]
     },
     "execution_count": 14,
     "metadata": {},
     "output_type": "execute_result"
    }
   ],
   "source": [
    "from delta.tables import DeltaTable\n",
    "delta_table=DeltaTable.forPath(spark,\"/Volumes/workspace/default/DML\")\n",
    "delta_table.alias(\"trgt\").merge(df.alias(\"src\"),\"trgt.id=src.id\").whenMatchedUpdateAll().whenNotMatchedInsertAll().execute()"
   ]
  },
  {
   "cell_type": "code",
   "execution_count": 0,
   "metadata": {
    "application/vnd.databricks.v1+cell": {
     "cellMetadata": {
      "byteLimit": 2048000,
      "implicitDf": true,
      "rowLimit": 10000
     },
     "inputWidgets": {},
     "nuid": "17159ff4-955f-4cef-b2fd-19b6cea42008",
     "showTitle": false,
     "tableResultSettingsMap": {},
     "title": ""
    }
   },
   "outputs": [
    {
     "output_type": "display_data",
     "data": {
      "text/html": [
       "<style scoped>\n",
       "  .table-result-container {\n",
       "    max-height: 300px;\n",
       "    overflow: auto;\n",
       "  }\n",
       "  table, th, td {\n",
       "    border: 1px solid black;\n",
       "    border-collapse: collapse;\n",
       "  }\n",
       "  th, td {\n",
       "    padding: 5px;\n",
       "  }\n",
       "  th {\n",
       "    text-align: left;\n",
       "  }\n",
       "</style><div class='table-result-container'><table class='table-result'><thead style='background-color: white'><tr><th>id</th><th>course</th><th>fee</th></tr></thead><tbody><tr><td>2</td><td>spark</td><td>4000</td></tr><tr><td>3</td><td>pyspark</td><td>4000</td></tr><tr><td>4</td><td>spark</td><td>5000</td></tr><tr><td>2</td><td>prick</td><td>40440</td></tr><tr><td>3</td><td>jack</td><td>400</td></tr><tr><td>4</td><td>loath</td><td>500</td></tr><tr><td>1</td><td>python</td><td>5000</td></tr><tr><td>1</td><td>python</td><td>5000</td></tr><tr><td>6</td><td>scala</td><td>10000</td></tr><tr><td>7</td><td>java</td><td>15000</td></tr></tbody></table></div>"
      ]
     },
     "metadata": {
      "application/vnd.databricks.v1+output": {
       "addedWidgets": {},
       "aggData": [],
       "aggError": "",
       "aggOverflow": false,
       "aggSchema": [],
       "aggSeriesLimitReached": false,
       "aggType": "",
       "arguments": {},
       "columnCustomDisplayInfos": {},
       "data": [
        [
         2,
         "spark",
         4000
        ],
        [
         3,
         "pyspark",
         4000
        ],
        [
         4,
         "spark",
         5000
        ],
        [
         2,
         "prick",
         40440
        ],
        [
         3,
         "jack",
         400
        ],
        [
         4,
         "loath",
         500
        ],
        [
         1,
         "python",
         5000
        ],
        [
         1,
         "python",
         5000
        ],
        [
         6,
         "scala",
         10000
        ],
        [
         7,
         "java",
         15000
        ]
       ],
       "datasetInfos": [
        {
         "name": "_sqldf",
         "schema": {
          "fields": [
           {
            "metadata": {},
            "name": "id",
            "nullable": true,
            "type": "long"
           },
           {
            "metadata": {},
            "name": "course",
            "nullable": true,
            "type": "string"
           },
           {
            "metadata": {},
            "name": "fee",
            "nullable": true,
            "type": "long"
           }
          ],
          "type": "struct"
         },
         "tableIdentifier": null,
         "typeStr": "pyspark.sql.connect.dataframe.DataFrame"
        }
       ],
       "dbfsResultPath": null,
       "isJsonSchema": true,
       "metadata": {
        "createTempViewForImplicitDf": true,
        "dataframeName": "_sqldf",
        "executionCount": 15
       },
       "overflow": false,
       "plotOptions": {
        "customPlotOptions": {},
        "displayType": "table",
        "pivotAggregation": null,
        "pivotColumns": null,
        "xColumns": null,
        "yColumns": null
       },
       "removedWidgets": [],
       "schema": [
        {
         "metadata": "{}",
         "name": "id",
         "type": "\"long\""
        },
        {
         "metadata": "{}",
         "name": "course",
         "type": "\"string\""
        },
        {
         "metadata": "{}",
         "name": "fee",
         "type": "\"long\""
        }
       ],
       "type": "table"
      }
     },
     "output_type": "display_data"
    }
   ],
   "source": [
    "%sql\n",
    "select * from delta.`/Volumes/workspace/default/DML`"
   ]
  },
  {
   "cell_type": "markdown",
   "metadata": {
    "application/vnd.databricks.v1+cell": {
     "cellMetadata": {},
     "inputWidgets": {},
     "nuid": "97f58698-9b7e-41c2-92a4-c9bd19ae9c13",
     "showTitle": false,
     "tableResultSettingsMap": {},
     "title": ""
    }
   },
   "source": [
    "# Table Utiliy commands"
   ]
  },
  {
   "cell_type": "markdown",
   "metadata": {
    "application/vnd.databricks.v1+cell": {
     "cellMetadata": {},
     "inputWidgets": {},
     "nuid": "034691e5-1231-4d77-8d28-8303d80773df",
     "showTitle": false,
     "tableResultSettingsMap": {},
     "title": ""
    }
   },
   "source": [
    "**Check schema**"
   ]
  },
  {
   "cell_type": "code",
   "execution_count": 0,
   "metadata": {
    "application/vnd.databricks.v1+cell": {
     "cellMetadata": {
      "byteLimit": 2048000,
      "implicitDf": true,
      "rowLimit": 10000
     },
     "inputWidgets": {},
     "nuid": "47605f5f-8aad-4afb-9ca7-e06841417446",
     "showTitle": false,
     "tableResultSettingsMap": {},
     "title": ""
    }
   },
   "outputs": [
    {
     "output_type": "display_data",
     "data": {
      "text/html": [
       "<style scoped>\n",
       "  .table-result-container {\n",
       "    max-height: 300px;\n",
       "    overflow: auto;\n",
       "  }\n",
       "  table, th, td {\n",
       "    border: 1px solid black;\n",
       "    border-collapse: collapse;\n",
       "  }\n",
       "  th, td {\n",
       "    padding: 5px;\n",
       "  }\n",
       "  th {\n",
       "    text-align: left;\n",
       "  }\n",
       "</style><div class='table-result-container'><table class='table-result'><thead style='background-color: white'><tr><th>col_name</th><th>data_type</th><th>comment</th></tr></thead><tbody><tr><td>id</td><td>bigint</td><td>null</td></tr><tr><td>course</td><td>string</td><td>null</td></tr><tr><td>fee</td><td>bigint</td><td>null</td></tr></tbody></table></div>"
      ]
     },
     "metadata": {
      "application/vnd.databricks.v1+output": {
       "addedWidgets": {},
       "aggData": [],
       "aggError": "",
       "aggOverflow": false,
       "aggSchema": [],
       "aggSeriesLimitReached": false,
       "aggType": "",
       "arguments": {},
       "columnCustomDisplayInfos": {},
       "data": [
        [
         "id",
         "bigint",
         null
        ],
        [
         "course",
         "string",
         null
        ],
        [
         "fee",
         "bigint",
         null
        ]
       ],
       "datasetInfos": [
        {
         "name": "_sqldf",
         "schema": {
          "fields": [
           {
            "metadata": {},
            "name": "col_name",
            "nullable": false,
            "type": "string"
           },
           {
            "metadata": {},
            "name": "data_type",
            "nullable": false,
            "type": "string"
           },
           {
            "metadata": {},
            "name": "comment",
            "nullable": true,
            "type": "string"
           }
          ],
          "type": "struct"
         },
         "tableIdentifier": null,
         "typeStr": "pyspark.sql.connect.dataframe.DataFrame"
        }
       ],
       "dbfsResultPath": null,
       "isJsonSchema": true,
       "metadata": {
        "createTempViewForImplicitDf": true,
        "dataframeName": "_sqldf",
        "executionCount": 17
       },
       "overflow": false,
       "plotOptions": {
        "customPlotOptions": {},
        "displayType": "table",
        "pivotAggregation": null,
        "pivotColumns": null,
        "xColumns": null,
        "yColumns": null
       },
       "removedWidgets": [],
       "schema": [
        {
         "metadata": "{}",
         "name": "col_name",
         "type": "\"string\""
        },
        {
         "metadata": "{}",
         "name": "data_type",
         "type": "\"string\""
        },
        {
         "metadata": "{}",
         "name": "comment",
         "type": "\"string\""
        }
       ],
       "type": "table"
      }
     },
     "output_type": "display_data"
    }
   ],
   "source": [
    "%sql\n",
    "describe delta.`/Volumes/workspace/default/DML`"
   ]
  },
  {
   "cell_type": "markdown",
   "metadata": {
    "application/vnd.databricks.v1+cell": {
     "cellMetadata": {},
     "inputWidgets": {},
     "nuid": "9a3e47d0-62dd-4cad-92c5-cc05e10434a0",
     "showTitle": false,
     "tableResultSettingsMap": {},
     "title": ""
    }
   },
   "source": [
    "**Check the table details**"
   ]
  },
  {
   "cell_type": "code",
   "execution_count": 0,
   "metadata": {
    "application/vnd.databricks.v1+cell": {
     "cellMetadata": {
      "byteLimit": 2048000,
      "implicitDf": true,
      "rowLimit": 10000
     },
     "inputWidgets": {},
     "nuid": "05957cf1-ba70-4b03-8917-4d45b48baf22",
     "showTitle": false,
     "tableResultSettingsMap": {},
     "title": ""
    }
   },
   "outputs": [
    {
     "output_type": "display_data",
     "data": {
      "text/html": [
       "<style scoped>\n",
       "  .table-result-container {\n",
       "    max-height: 300px;\n",
       "    overflow: auto;\n",
       "  }\n",
       "  table, th, td {\n",
       "    border: 1px solid black;\n",
       "    border-collapse: collapse;\n",
       "  }\n",
       "  th, td {\n",
       "    padding: 5px;\n",
       "  }\n",
       "  th {\n",
       "    text-align: left;\n",
       "  }\n",
       "</style><div class='table-result-container'><table class='table-result'><thead style='background-color: white'><tr><th>format</th><th>id</th><th>name</th><th>description</th><th>location</th><th>createdAt</th><th>lastModified</th><th>partitionColumns</th><th>clusteringColumns</th><th>numFiles</th><th>sizeInBytes</th><th>properties</th><th>minReaderVersion</th><th>minWriterVersion</th><th>tableFeatures</th><th>statistics</th><th>clusterByAuto</th></tr></thead><tbody><tr><td>delta</td><td>bccb664e-976f-4f28-826e-03f627f3096f</td><td>null</td><td>null</td><td>dbfs:/Volumes/workspace/default/DML</td><td>2025-07-13T14:19:01.155Z</td><td>2025-07-13T15:15:30.000Z</td><td>List()</td><td>List()</td><td>1</td><td>1242</td><td>Map(delta.enableDeletionVectors -> true)</td><td>3</td><td>7</td><td>List(appendOnly, deletionVectors, invariants)</td><td>Map(numRowsDeletedByDeletionVectors -> 0, numDeletionVectors -> 0)</td><td>false</td></tr></tbody></table></div>"
      ]
     },
     "metadata": {
      "application/vnd.databricks.v1+output": {
       "addedWidgets": {},
       "aggData": [],
       "aggError": "",
       "aggOverflow": false,
       "aggSchema": [],
       "aggSeriesLimitReached": false,
       "aggType": "",
       "arguments": {},
       "columnCustomDisplayInfos": {},
       "data": [
        [
         "delta",
         "bccb664e-976f-4f28-826e-03f627f3096f",
         null,
         null,
         "dbfs:/Volumes/workspace/default/DML",
         "2025-07-13T14:19:01.155Z",
         "2025-07-13T15:15:30.000Z",
         [],
         [],
         1,
         1242,
         {
          "delta.enableDeletionVectors": "true"
         },
         3,
         7,
         [
          "appendOnly",
          "deletionVectors",
          "invariants"
         ],
         {
          "numDeletionVectors": 0,
          "numRowsDeletedByDeletionVectors": 0
         },
         false
        ]
       ],
       "datasetInfos": [
        {
         "name": "_sqldf",
         "schema": {
          "fields": [
           {
            "metadata": {},
            "name": "format",
            "nullable": true,
            "type": "string"
           },
           {
            "metadata": {},
            "name": "id",
            "nullable": true,
            "type": "string"
           },
           {
            "metadata": {},
            "name": "name",
            "nullable": true,
            "type": "string"
           },
           {
            "metadata": {},
            "name": "description",
            "nullable": true,
            "type": "string"
           },
           {
            "metadata": {},
            "name": "location",
            "nullable": true,
            "type": "string"
           },
           {
            "metadata": {},
            "name": "createdAt",
            "nullable": true,
            "type": "timestamp"
           },
           {
            "metadata": {},
            "name": "lastModified",
            "nullable": true,
            "type": "timestamp"
           },
           {
            "metadata": {},
            "name": "partitionColumns",
            "nullable": true,
            "type": {
             "containsNull": true,
             "elementType": "string",
             "type": "array"
            }
           },
           {
            "metadata": {},
            "name": "clusteringColumns",
            "nullable": true,
            "type": {
             "containsNull": true,
             "elementType": "string",
             "type": "array"
            }
           },
           {
            "metadata": {},
            "name": "numFiles",
            "nullable": true,
            "type": "long"
           },
           {
            "metadata": {},
            "name": "sizeInBytes",
            "nullable": true,
            "type": "long"
           },
           {
            "metadata": {},
            "name": "properties",
            "nullable": true,
            "type": {
             "keyType": "string",
             "type": "map",
             "valueContainsNull": true,
             "valueType": "string"
            }
           },
           {
            "metadata": {},
            "name": "minReaderVersion",
            "nullable": true,
            "type": "integer"
           },
           {
            "metadata": {},
            "name": "minWriterVersion",
            "nullable": true,
            "type": "integer"
           },
           {
            "metadata": {},
            "name": "tableFeatures",
            "nullable": true,
            "type": {
             "containsNull": true,
             "elementType": "string",
             "type": "array"
            }
           },
           {
            "metadata": {},
            "name": "statistics",
            "nullable": true,
            "type": {
             "keyType": "string",
             "type": "map",
             "valueContainsNull": true,
             "valueType": "long"
            }
           },
           {
            "metadata": {},
            "name": "clusterByAuto",
            "nullable": false,
            "type": "boolean"
           }
          ],
          "type": "struct"
         },
         "tableIdentifier": null,
         "typeStr": "pyspark.sql.connect.dataframe.DataFrame"
        }
       ],
       "dbfsResultPath": null,
       "isJsonSchema": true,
       "metadata": {
        "createTempViewForImplicitDf": true,
        "dataframeName": "_sqldf",
        "executionCount": 19
       },
       "overflow": false,
       "plotOptions": {
        "customPlotOptions": {},
        "displayType": "table",
        "pivotAggregation": null,
        "pivotColumns": null,
        "xColumns": null,
        "yColumns": null
       },
       "removedWidgets": [],
       "schema": [
        {
         "metadata": "{}",
         "name": "format",
         "type": "\"string\""
        },
        {
         "metadata": "{}",
         "name": "id",
         "type": "\"string\""
        },
        {
         "metadata": "{}",
         "name": "name",
         "type": "\"string\""
        },
        {
         "metadata": "{}",
         "name": "description",
         "type": "\"string\""
        },
        {
         "metadata": "{}",
         "name": "location",
         "type": "\"string\""
        },
        {
         "metadata": "{}",
         "name": "createdAt",
         "type": "\"timestamp\""
        },
        {
         "metadata": "{}",
         "name": "lastModified",
         "type": "\"timestamp\""
        },
        {
         "metadata": "{}",
         "name": "partitionColumns",
         "type": "{\"containsNull\":true,\"elementType\":\"string\",\"type\":\"array\"}"
        },
        {
         "metadata": "{}",
         "name": "clusteringColumns",
         "type": "{\"containsNull\":true,\"elementType\":\"string\",\"type\":\"array\"}"
        },
        {
         "metadata": "{}",
         "name": "numFiles",
         "type": "\"long\""
        },
        {
         "metadata": "{}",
         "name": "sizeInBytes",
         "type": "\"long\""
        },
        {
         "metadata": "{}",
         "name": "properties",
         "type": "{\"keyType\":\"string\",\"type\":\"map\",\"valueContainsNull\":true,\"valueType\":\"string\"}"
        },
        {
         "metadata": "{}",
         "name": "minReaderVersion",
         "type": "\"integer\""
        },
        {
         "metadata": "{}",
         "name": "minWriterVersion",
         "type": "\"integer\""
        },
        {
         "metadata": "{}",
         "name": "tableFeatures",
         "type": "{\"containsNull\":true,\"elementType\":\"string\",\"type\":\"array\"}"
        },
        {
         "metadata": "{}",
         "name": "statistics",
         "type": "{\"keyType\":\"string\",\"type\":\"map\",\"valueContainsNull\":true,\"valueType\":\"long\"}"
        },
        {
         "metadata": "{}",
         "name": "clusterByAuto",
         "type": "\"boolean\""
        }
       ],
       "type": "table"
      }
     },
     "output_type": "display_data"
    }
   ],
   "source": [
    "%sql\n",
    "describe detail delta.`/Volumes/workspace/default/DML`"
   ]
  },
  {
   "cell_type": "markdown",
   "metadata": {
    "application/vnd.databricks.v1+cell": {
     "cellMetadata": {},
     "inputWidgets": {},
     "nuid": "c72c2997-4b85-43f4-9bba-2773b0641de2",
     "showTitle": false,
     "tableResultSettingsMap": {},
     "title": ""
    }
   },
   "source": [
    "**Better view we use extended**"
   ]
  },
  {
   "cell_type": "code",
   "execution_count": 0,
   "metadata": {
    "application/vnd.databricks.v1+cell": {
     "cellMetadata": {
      "byteLimit": 2048000,
      "implicitDf": true,
      "rowLimit": 10000
     },
     "inputWidgets": {},
     "nuid": "02651275-2268-493b-a37c-f0bd0b1c3c37",
     "showTitle": false,
     "tableResultSettingsMap": {},
     "title": ""
    }
   },
   "outputs": [
    {
     "output_type": "display_data",
     "data": {
      "text/html": [
       "<style scoped>\n",
       "  .table-result-container {\n",
       "    max-height: 300px;\n",
       "    overflow: auto;\n",
       "  }\n",
       "  table, th, td {\n",
       "    border: 1px solid black;\n",
       "    border-collapse: collapse;\n",
       "  }\n",
       "  th, td {\n",
       "    padding: 5px;\n",
       "  }\n",
       "  th {\n",
       "    text-align: left;\n",
       "  }\n",
       "</style><div class='table-result-container'><table class='table-result'><thead style='background-color: white'><tr><th>col_name</th><th>data_type</th><th>comment</th></tr></thead><tbody><tr><td>id</td><td>bigint</td><td>null</td></tr><tr><td>course</td><td>string</td><td>null</td></tr><tr><td>fee</td><td>bigint</td><td>null</td></tr><tr><td></td><td></td><td></td></tr><tr><td># Delta Statistics Columns</td><td></td><td></td></tr><tr><td>Column Names</td><td>id, course, fee</td><td></td></tr><tr><td>Column Selection Method</td><td>first-32</td><td></td></tr><tr><td></td><td></td><td></td></tr><tr><td># Detailed Table Information</td><td></td><td></td></tr><tr><td>Catalog</td><td>new_catalog</td><td></td></tr><tr><td>Database</td><td>delta</td><td></td></tr><tr><td>Table</td><td>/Volumes/workspace/default/DML</td><td></td></tr><tr><td>Type</td><td>MANAGED</td><td></td></tr><tr><td>Location</td><td>/Volumes/workspace/default/DML</td><td></td></tr><tr><td>Provider</td><td>delta</td><td></td></tr><tr><td>Table Properties</td><td>[delta.enableDeletionVectors=true,delta.feature.appendOnly=supported,delta.feature.deletionVectors=supported,delta.feature.invariants=supported,delta.minReaderVersion=3,delta.minWriterVersion=7]</td><td></td></tr></tbody></table></div>"
      ]
     },
     "metadata": {
      "application/vnd.databricks.v1+output": {
       "addedWidgets": {},
       "aggData": [],
       "aggError": "",
       "aggOverflow": false,
       "aggSchema": [],
       "aggSeriesLimitReached": false,
       "aggType": "",
       "arguments": {},
       "columnCustomDisplayInfos": {},
       "data": [
        [
         "id",
         "bigint",
         null
        ],
        [
         "course",
         "string",
         null
        ],
        [
         "fee",
         "bigint",
         null
        ],
        [
         "",
         "",
         ""
        ],
        [
         "# Delta Statistics Columns",
         "",
         ""
        ],
        [
         "Column Names",
         "id, course, fee",
         ""
        ],
        [
         "Column Selection Method",
         "first-32",
         ""
        ],
        [
         "",
         "",
         ""
        ],
        [
         "# Detailed Table Information",
         "",
         ""
        ],
        [
         "Catalog",
         "new_catalog",
         ""
        ],
        [
         "Database",
         "delta",
         ""
        ],
        [
         "Table",
         "/Volumes/workspace/default/DML",
         ""
        ],
        [
         "Type",
         "MANAGED",
         ""
        ],
        [
         "Location",
         "/Volumes/workspace/default/DML",
         ""
        ],
        [
         "Provider",
         "delta",
         ""
        ],
        [
         "Table Properties",
         "[delta.enableDeletionVectors=true,delta.feature.appendOnly=supported,delta.feature.deletionVectors=supported,delta.feature.invariants=supported,delta.minReaderVersion=3,delta.minWriterVersion=7]",
         ""
        ]
       ],
       "datasetInfos": [
        {
         "name": "_sqldf",
         "schema": {
          "fields": [
           {
            "metadata": {},
            "name": "col_name",
            "nullable": false,
            "type": "string"
           },
           {
            "metadata": {},
            "name": "data_type",
            "nullable": false,
            "type": "string"
           },
           {
            "metadata": {},
            "name": "comment",
            "nullable": true,
            "type": "string"
           }
          ],
          "type": "struct"
         },
         "tableIdentifier": null,
         "typeStr": "pyspark.sql.connect.dataframe.DataFrame"
        }
       ],
       "dbfsResultPath": null,
       "isJsonSchema": true,
       "metadata": {
        "createTempViewForImplicitDf": true,
        "dataframeName": "_sqldf",
        "executionCount": 23
       },
       "overflow": false,
       "plotOptions": {
        "customPlotOptions": {},
        "displayType": "table",
        "pivotAggregation": null,
        "pivotColumns": null,
        "xColumns": null,
        "yColumns": null
       },
       "removedWidgets": [],
       "schema": [
        {
         "metadata": "{}",
         "name": "col_name",
         "type": "\"string\""
        },
        {
         "metadata": "{}",
         "name": "data_type",
         "type": "\"string\""
        },
        {
         "metadata": "{}",
         "name": "comment",
         "type": "\"string\""
        }
       ],
       "type": "table"
      }
     },
     "output_type": "display_data"
    }
   ],
   "source": [
    "%sql\n",
    "describe extended delta.`/Volumes/workspace/default/DML`"
   ]
  },
  {
   "cell_type": "markdown",
   "metadata": {
    "application/vnd.databricks.v1+cell": {
     "cellMetadata": {},
     "inputWidgets": {},
     "nuid": "ea51712f-eef4-419d-8627-1bbd9cf44a13",
     "showTitle": false,
     "tableResultSettingsMap": {},
     "title": ""
    }
   },
   "source": [
    "**Check what operations have been performed on each version**"
   ]
  },
  {
   "cell_type": "code",
   "execution_count": 0,
   "metadata": {
    "application/vnd.databricks.v1+cell": {
     "cellMetadata": {
      "byteLimit": 2048000,
      "implicitDf": true,
      "rowLimit": 10000
     },
     "inputWidgets": {},
     "nuid": "1a71fa0d-6da1-4925-8f9d-778e35177270",
     "showTitle": false,
     "tableResultSettingsMap": {},
     "title": ""
    }
   },
   "outputs": [
    {
     "output_type": "display_data",
     "data": {
      "text/html": [
       "<style scoped>\n",
       "  .table-result-container {\n",
       "    max-height: 300px;\n",
       "    overflow: auto;\n",
       "  }\n",
       "  table, th, td {\n",
       "    border: 1px solid black;\n",
       "    border-collapse: collapse;\n",
       "  }\n",
       "  th, td {\n",
       "    padding: 5px;\n",
       "  }\n",
       "  th {\n",
       "    text-align: left;\n",
       "  }\n",
       "</style><div class='table-result-container'><table class='table-result'><thead style='background-color: white'><tr><th>version</th><th>timestamp</th><th>userId</th><th>userName</th><th>operation</th><th>operationParameters</th><th>job</th><th>notebook</th><th>clusterId</th><th>readVersion</th><th>isolationLevel</th><th>isBlindAppend</th><th>operationMetrics</th><th>userMetadata</th><th>engineInfo</th></tr></thead><tbody><tr><td>7</td><td>2025-07-13T15:15:30.000Z</td><td>3444117624069686</td><td>shaikmohammadthaheer@gmail.com</td><td>OPTIMIZE</td><td>Map(predicate -> [], auto -> true, clusterBy -> [], zOrderBy -> [], batchId -> 0)</td><td>null</td><td>null</td><td>0713-150105-y8f49oi7-v2n</td><td>6</td><td>SnapshotIsolation</td><td>false</td><td>Map(numRemovedFiles -> 4, numRemovedBytes -> 4358, p25FileSize -> 1242, numDeletionVectorsRemoved -> 1, minFileSize -> 1242, numAddedFiles -> 1, maxFileSize -> 1242, p75FileSize -> 1242, p50FileSize -> 1242, numAddedBytes -> 1242)</td><td>null</td><td>Databricks-Runtime/16.4.x-aarch64-photon-scala2.12</td></tr><tr><td>6</td><td>2025-07-13T15:15:27.000Z</td><td>3444117624069686</td><td>shaikmohammadthaheer@gmail.com</td><td>MERGE</td><td>Map(predicate -> [\"(id#11105L = id#11089L)\"], clusterBy -> [], matchedPredicates -> [{\"actionType\":\"update\"}], statsOnLoad -> false, notMatchedBySourcePredicates -> [], notMatchedPredicates -> [{\"actionType\":\"insert\"}])</td><td>null</td><td>null</td><td>0713-150105-y8f49oi7-v2n</td><td>5</td><td>WriteSerializable</td><td>false</td><td>Map(numTargetRowsCopied -> 0, numTargetRowsDeleted -> 0, numTargetFilesAdded -> 3, numTargetBytesAdded -> 3152, numTargetBytesRemoved -> 0, numTargetDeletionVectorsAdded -> 1, numTargetRowsMatchedUpdated -> 2, executionTimeMs -> 3827, materializeSourceTimeMs -> 424, numTargetRowsInserted -> 2, numTargetRowsMatchedDeleted -> 0, numTargetDeletionVectorsUpdated -> 0, scanTimeMs -> 1450, numTargetRowsUpdated -> 2, numOutputRows -> 4, numTargetDeletionVectorsRemoved -> 0, numTargetRowsNotMatchedBySourceUpdated -> 0, numTargetChangeFilesAdded -> 0, numSourceRows -> 3, numTargetFilesRemoved -> 0, numTargetRowsNotMatchedBySourceDeleted -> 0, rewriteTimeMs -> 1836)</td><td>null</td><td>Databricks-Runtime/16.4.x-aarch64-photon-scala2.12</td></tr><tr><td>5</td><td>2025-07-13T15:01:39.000Z</td><td>3444117624069686</td><td>shaikmohammadthaheer@gmail.com</td><td>OPTIMIZE</td><td>Map(predicate -> [], auto -> true, clusterBy -> [], zOrderBy -> [], batchId -> 0)</td><td>null</td><td>null</td><td>0713-150105-y8f49oi7-v2n</td><td>4</td><td>SnapshotIsolation</td><td>false</td><td>Map(numRemovedFiles -> 2, numRemovedBytes -> 2222, p25FileSize -> 1206, numDeletionVectorsRemoved -> 1, minFileSize -> 1206, numAddedFiles -> 1, maxFileSize -> 1206, p75FileSize -> 1206, p50FileSize -> 1206, numAddedBytes -> 1206)</td><td>null</td><td>Databricks-Runtime/16.4.x-aarch64-photon-scala2.12</td></tr><tr><td>4</td><td>2025-07-13T15:01:35.000Z</td><td>3444117624069686</td><td>shaikmohammadthaheer@gmail.com</td><td>UPDATE</td><td>Map(predicate -> [\"(course#10459 = pip)\"])</td><td>null</td><td>null</td><td>0713-150105-y8f49oi7-v2n</td><td>3</td><td>WriteSerializable</td><td>false</td><td>Map(numRemovedFiles -> 0, numRemovedBytes -> 0, numCopiedRows -> 0, numDeletionVectorsAdded -> 1, numDeletionVectorsRemoved -> 0, numAddedChangeFiles -> 0, executionTimeMs -> 8810, numDeletionVectorsUpdated -> 0, scanTimeMs -> 6243, numAddedFiles -> 1, numUpdatedRows -> 1, numAddedBytes -> 1016, rewriteTimeMs -> 2534)</td><td>null</td><td>Databricks-Runtime/16.4.x-aarch64-photon-scala2.12</td></tr><tr><td>3</td><td>2025-07-13T14:30:50.000Z</td><td>3444117624069686</td><td>shaikmohammadthaheer@gmail.com</td><td>OPTIMIZE</td><td>Map(predicate -> [], auto -> true, clusterBy -> [], zOrderBy -> [], batchId -> 0)</td><td>null</td><td>null</td><td>0713-141740-cor2s2lb-v2n</td><td>2</td><td>SnapshotIsolation</td><td>false</td><td>Map(numRemovedFiles -> 3, numRemovedBytes -> 3296, p25FileSize -> 1206, numDeletionVectorsRemoved -> 2, minFileSize -> 1206, numAddedFiles -> 1, maxFileSize -> 1206, p75FileSize -> 1206, p50FileSize -> 1206, numAddedBytes -> 1206)</td><td>null</td><td>Databricks-Runtime/16.4.x-aarch64-photon-scala2.12</td></tr><tr><td>2</td><td>2025-07-13T14:30:47.000Z</td><td>3444117624069686</td><td>shaikmohammadthaheer@gmail.com</td><td>UPDATE</td><td>Map(predicate -> [\"(id#10966L = 1)\"])</td><td>null</td><td>null</td><td>0713-141740-cor2s2lb-v2n</td><td>1</td><td>WriteSerializable</td><td>false</td><td>Map(numRemovedFiles -> 0, numRemovedBytes -> 0, numCopiedRows -> 0, numDeletionVectorsAdded -> 2, numDeletionVectorsRemoved -> 0, numAddedChangeFiles -> 0, executionTimeMs -> 3483, numDeletionVectorsUpdated -> 0, scanTimeMs -> 2057, numAddedFiles -> 1, numUpdatedRows -> 2, numAddedBytes -> 1080, rewriteTimeMs -> 1398)</td><td>null</td><td>Databricks-Runtime/16.4.x-aarch64-photon-scala2.12</td></tr><tr><td>1</td><td>2025-07-13T14:20:59.000Z</td><td>3444117624069686</td><td>shaikmohammadthaheer@gmail.com</td><td>WRITE</td><td>Map(mode -> Append, statsOnLoad -> false, partitionBy -> [])</td><td>null</td><td>null</td><td>0713-141740-cor2s2lb-v2n</td><td>0</td><td>WriteSerializable</td><td>true</td><td>Map(numFiles -> 1, numOutputRows -> 4, numOutputBytes -> 1086)</td><td>null</td><td>Databricks-Runtime/16.4.x-aarch64-photon-scala2.12</td></tr><tr><td>0</td><td>2025-07-13T14:19:07.000Z</td><td>3444117624069686</td><td>shaikmohammadthaheer@gmail.com</td><td>WRITE</td><td>Map(mode -> ErrorIfExists, statsOnLoad -> false, partitionBy -> [])</td><td>null</td><td>null</td><td>0713-141740-cor2s2lb-v2n</td><td>null</td><td>WriteSerializable</td><td>true</td><td>Map(numFiles -> 1, numOutputRows -> 4, numOutputBytes -> 1130)</td><td>null</td><td>Databricks-Runtime/16.4.x-aarch64-photon-scala2.12</td></tr></tbody></table></div>"
      ]
     },
     "metadata": {
      "application/vnd.databricks.v1+output": {
       "addedWidgets": {},
       "aggData": [],
       "aggError": "",
       "aggOverflow": false,
       "aggSchema": [],
       "aggSeriesLimitReached": false,
       "aggType": "",
       "arguments": {},
       "columnCustomDisplayInfos": {},
       "data": [
        [
         7,
         "2025-07-13T15:15:30.000Z",
         "3444117624069686",
         "shaikmohammadthaheer@gmail.com",
         "OPTIMIZE",
         {
          "auto": "true",
          "batchId": "0",
          "clusterBy": "[]",
          "predicate": "[]",
          "zOrderBy": "[]"
         },
         null,
         null,
         "0713-150105-y8f49oi7-v2n",
         6,
         "SnapshotIsolation",
         false,
         {
          "maxFileSize": "1242",
          "minFileSize": "1242",
          "numAddedBytes": "1242",
          "numAddedFiles": "1",
          "numDeletionVectorsRemoved": "1",
          "numRemovedBytes": "4358",
          "numRemovedFiles": "4",
          "p25FileSize": "1242",
          "p50FileSize": "1242",
          "p75FileSize": "1242"
         },
         null,
         "Databricks-Runtime/16.4.x-aarch64-photon-scala2.12"
        ],
        [
         6,
         "2025-07-13T15:15:27.000Z",
         "3444117624069686",
         "shaikmohammadthaheer@gmail.com",
         "MERGE",
         {
          "clusterBy": "[]",
          "matchedPredicates": "[{\"actionType\":\"update\"}]",
          "notMatchedBySourcePredicates": "[]",
          "notMatchedPredicates": "[{\"actionType\":\"insert\"}]",
          "predicate": "[\"(id#11105L = id#11089L)\"]",
          "statsOnLoad": "false"
         },
         null,
         null,
         "0713-150105-y8f49oi7-v2n",
         5,
         "WriteSerializable",
         false,
         {
          "executionTimeMs": "3827",
          "materializeSourceTimeMs": "424",
          "numOutputRows": "4",
          "numSourceRows": "3",
          "numTargetBytesAdded": "3152",
          "numTargetBytesRemoved": "0",
          "numTargetChangeFilesAdded": "0",
          "numTargetDeletionVectorsAdded": "1",
          "numTargetDeletionVectorsRemoved": "0",
          "numTargetDeletionVectorsUpdated": "0",
          "numTargetFilesAdded": "3",
          "numTargetFilesRemoved": "0",
          "numTargetRowsCopied": "0",
          "numTargetRowsDeleted": "0",
          "numTargetRowsInserted": "2",
          "numTargetRowsMatchedDeleted": "0",
          "numTargetRowsMatchedUpdated": "2",
          "numTargetRowsNotMatchedBySourceDeleted": "0",
          "numTargetRowsNotMatchedBySourceUpdated": "0",
          "numTargetRowsUpdated": "2",
          "rewriteTimeMs": "1836",
          "scanTimeMs": "1450"
         },
         null,
         "Databricks-Runtime/16.4.x-aarch64-photon-scala2.12"
        ],
        [
         5,
         "2025-07-13T15:01:39.000Z",
         "3444117624069686",
         "shaikmohammadthaheer@gmail.com",
         "OPTIMIZE",
         {
          "auto": "true",
          "batchId": "0",
          "clusterBy": "[]",
          "predicate": "[]",
          "zOrderBy": "[]"
         },
         null,
         null,
         "0713-150105-y8f49oi7-v2n",
         4,
         "SnapshotIsolation",
         false,
         {
          "maxFileSize": "1206",
          "minFileSize": "1206",
          "numAddedBytes": "1206",
          "numAddedFiles": "1",
          "numDeletionVectorsRemoved": "1",
          "numRemovedBytes": "2222",
          "numRemovedFiles": "2",
          "p25FileSize": "1206",
          "p50FileSize": "1206",
          "p75FileSize": "1206"
         },
         null,
         "Databricks-Runtime/16.4.x-aarch64-photon-scala2.12"
        ],
        [
         4,
         "2025-07-13T15:01:35.000Z",
         "3444117624069686",
         "shaikmohammadthaheer@gmail.com",
         "UPDATE",
         {
          "predicate": "[\"(course#10459 = pip)\"]"
         },
         null,
         null,
         "0713-150105-y8f49oi7-v2n",
         3,
         "WriteSerializable",
         false,
         {
          "executionTimeMs": "8810",
          "numAddedBytes": "1016",
          "numAddedChangeFiles": "0",
          "numAddedFiles": "1",
          "numCopiedRows": "0",
          "numDeletionVectorsAdded": "1",
          "numDeletionVectorsRemoved": "0",
          "numDeletionVectorsUpdated": "0",
          "numRemovedBytes": "0",
          "numRemovedFiles": "0",
          "numUpdatedRows": "1",
          "rewriteTimeMs": "2534",
          "scanTimeMs": "6243"
         },
         null,
         "Databricks-Runtime/16.4.x-aarch64-photon-scala2.12"
        ],
        [
         3,
         "2025-07-13T14:30:50.000Z",
         "3444117624069686",
         "shaikmohammadthaheer@gmail.com",
         "OPTIMIZE",
         {
          "auto": "true",
          "batchId": "0",
          "clusterBy": "[]",
          "predicate": "[]",
          "zOrderBy": "[]"
         },
         null,
         null,
         "0713-141740-cor2s2lb-v2n",
         2,
         "SnapshotIsolation",
         false,
         {
          "maxFileSize": "1206",
          "minFileSize": "1206",
          "numAddedBytes": "1206",
          "numAddedFiles": "1",
          "numDeletionVectorsRemoved": "2",
          "numRemovedBytes": "3296",
          "numRemovedFiles": "3",
          "p25FileSize": "1206",
          "p50FileSize": "1206",
          "p75FileSize": "1206"
         },
         null,
         "Databricks-Runtime/16.4.x-aarch64-photon-scala2.12"
        ],
        [
         2,
         "2025-07-13T14:30:47.000Z",
         "3444117624069686",
         "shaikmohammadthaheer@gmail.com",
         "UPDATE",
         {
          "predicate": "[\"(id#10966L = 1)\"]"
         },
         null,
         null,
         "0713-141740-cor2s2lb-v2n",
         1,
         "WriteSerializable",
         false,
         {
          "executionTimeMs": "3483",
          "numAddedBytes": "1080",
          "numAddedChangeFiles": "0",
          "numAddedFiles": "1",
          "numCopiedRows": "0",
          "numDeletionVectorsAdded": "2",
          "numDeletionVectorsRemoved": "0",
          "numDeletionVectorsUpdated": "0",
          "numRemovedBytes": "0",
          "numRemovedFiles": "0",
          "numUpdatedRows": "2",
          "rewriteTimeMs": "1398",
          "scanTimeMs": "2057"
         },
         null,
         "Databricks-Runtime/16.4.x-aarch64-photon-scala2.12"
        ],
        [
         1,
         "2025-07-13T14:20:59.000Z",
         "3444117624069686",
         "shaikmohammadthaheer@gmail.com",
         "WRITE",
         {
          "mode": "Append",
          "partitionBy": "[]",
          "statsOnLoad": "false"
         },
         null,
         null,
         "0713-141740-cor2s2lb-v2n",
         0,
         "WriteSerializable",
         true,
         {
          "numFiles": "1",
          "numOutputBytes": "1086",
          "numOutputRows": "4"
         },
         null,
         "Databricks-Runtime/16.4.x-aarch64-photon-scala2.12"
        ],
        [
         0,
         "2025-07-13T14:19:07.000Z",
         "3444117624069686",
         "shaikmohammadthaheer@gmail.com",
         "WRITE",
         {
          "mode": "ErrorIfExists",
          "partitionBy": "[]",
          "statsOnLoad": "false"
         },
         null,
         null,
         "0713-141740-cor2s2lb-v2n",
         null,
         "WriteSerializable",
         true,
         {
          "numFiles": "1",
          "numOutputBytes": "1130",
          "numOutputRows": "4"
         },
         null,
         "Databricks-Runtime/16.4.x-aarch64-photon-scala2.12"
        ]
       ],
       "datasetInfos": [
        {
         "name": "_sqldf",
         "schema": {
          "fields": [
           {
            "metadata": {},
            "name": "version",
            "nullable": true,
            "type": "long"
           },
           {
            "metadata": {},
            "name": "timestamp",
            "nullable": true,
            "type": "timestamp"
           },
           {
            "metadata": {},
            "name": "userId",
            "nullable": true,
            "type": "string"
           },
           {
            "metadata": {},
            "name": "userName",
            "nullable": true,
            "type": "string"
           },
           {
            "metadata": {},
            "name": "operation",
            "nullable": true,
            "type": "string"
           },
           {
            "metadata": {},
            "name": "operationParameters",
            "nullable": true,
            "type": {
             "keyType": "string",
             "type": "map",
             "valueContainsNull": true,
             "valueType": "string"
            }
           },
           {
            "metadata": {},
            "name": "job",
            "nullable": true,
            "type": {
             "fields": [
              {
               "metadata": {},
               "name": "jobId",
               "nullable": true,
               "type": "string"
              },
              {
               "metadata": {},
               "name": "jobName",
               "nullable": true,
               "type": "string"
              },
              {
               "metadata": {},
               "name": "jobRunId",
               "nullable": true,
               "type": "string"
              },
              {
               "metadata": {},
               "name": "runId",
               "nullable": true,
               "type": "string"
              },
              {
               "metadata": {},
               "name": "jobOwnerId",
               "nullable": true,
               "type": "string"
              },
              {
               "metadata": {},
               "name": "triggerType",
               "nullable": true,
               "type": "string"
              }
             ],
             "type": "struct"
            }
           },
           {
            "metadata": {},
            "name": "notebook",
            "nullable": true,
            "type": {
             "fields": [
              {
               "metadata": {},
               "name": "notebookId",
               "nullable": true,
               "type": "string"
              }
             ],
             "type": "struct"
            }
           },
           {
            "metadata": {},
            "name": "clusterId",
            "nullable": true,
            "type": "string"
           },
           {
            "metadata": {},
            "name": "readVersion",
            "nullable": true,
            "type": "long"
           },
           {
            "metadata": {},
            "name": "isolationLevel",
            "nullable": true,
            "type": "string"
           },
           {
            "metadata": {},
            "name": "isBlindAppend",
            "nullable": true,
            "type": "boolean"
           },
           {
            "metadata": {},
            "name": "operationMetrics",
            "nullable": true,
            "type": {
             "keyType": "string",
             "type": "map",
             "valueContainsNull": true,
             "valueType": "string"
            }
           },
           {
            "metadata": {},
            "name": "userMetadata",
            "nullable": true,
            "type": "string"
           },
           {
            "metadata": {},
            "name": "engineInfo",
            "nullable": true,
            "type": "string"
           }
          ],
          "type": "struct"
         },
         "tableIdentifier": null,
         "typeStr": "pyspark.sql.connect.dataframe.DataFrame"
        }
       ],
       "dbfsResultPath": null,
       "isJsonSchema": true,
       "metadata": {
        "createTempViewForImplicitDf": true,
        "dataframeName": "_sqldf",
        "executionCount": 27
       },
       "overflow": false,
       "plotOptions": {
        "customPlotOptions": {},
        "displayType": "table",
        "pivotAggregation": null,
        "pivotColumns": null,
        "xColumns": null,
        "yColumns": null
       },
       "removedWidgets": [],
       "schema": [
        {
         "metadata": "{}",
         "name": "version",
         "type": "\"long\""
        },
        {
         "metadata": "{}",
         "name": "timestamp",
         "type": "\"timestamp\""
        },
        {
         "metadata": "{}",
         "name": "userId",
         "type": "\"string\""
        },
        {
         "metadata": "{}",
         "name": "userName",
         "type": "\"string\""
        },
        {
         "metadata": "{}",
         "name": "operation",
         "type": "\"string\""
        },
        {
         "metadata": "{}",
         "name": "operationParameters",
         "type": "{\"keyType\":\"string\",\"type\":\"map\",\"valueContainsNull\":true,\"valueType\":\"string\"}"
        },
        {
         "metadata": "{}",
         "name": "job",
         "type": "{\"fields\":[{\"metadata\":{},\"name\":\"jobId\",\"nullable\":true,\"type\":\"string\"},{\"metadata\":{},\"name\":\"jobName\",\"nullable\":true,\"type\":\"string\"},{\"metadata\":{},\"name\":\"jobRunId\",\"nullable\":true,\"type\":\"string\"},{\"metadata\":{},\"name\":\"runId\",\"nullable\":true,\"type\":\"string\"},{\"metadata\":{},\"name\":\"jobOwnerId\",\"nullable\":true,\"type\":\"string\"},{\"metadata\":{},\"name\":\"triggerType\",\"nullable\":true,\"type\":\"string\"}],\"type\":\"struct\"}"
        },
        {
         "metadata": "{}",
         "name": "notebook",
         "type": "{\"fields\":[{\"metadata\":{},\"name\":\"notebookId\",\"nullable\":true,\"type\":\"string\"}],\"type\":\"struct\"}"
        },
        {
         "metadata": "{}",
         "name": "clusterId",
         "type": "\"string\""
        },
        {
         "metadata": "{}",
         "name": "readVersion",
         "type": "\"long\""
        },
        {
         "metadata": "{}",
         "name": "isolationLevel",
         "type": "\"string\""
        },
        {
         "metadata": "{}",
         "name": "isBlindAppend",
         "type": "\"boolean\""
        },
        {
         "metadata": "{}",
         "name": "operationMetrics",
         "type": "{\"keyType\":\"string\",\"type\":\"map\",\"valueContainsNull\":true,\"valueType\":\"string\"}"
        },
        {
         "metadata": "{}",
         "name": "userMetadata",
         "type": "\"string\""
        },
        {
         "metadata": "{}",
         "name": "engineInfo",
         "type": "\"string\""
        }
       ],
       "type": "table"
      }
     },
     "output_type": "display_data"
    }
   ],
   "source": [
    "%sql\n",
    "describe history delta.`/Volumes/workspace/default/DML`"
   ]
  },
  {
   "cell_type": "markdown",
   "metadata": {
    "application/vnd.databricks.v1+cell": {
     "cellMetadata": {},
     "inputWidgets": {},
     "nuid": "7d52e870-f01f-49f1-b071-0cb82df3567f",
     "showTitle": false,
     "tableResultSettingsMap": {},
     "title": ""
    }
   },
   "source": [
    "**Time Travelling**"
   ]
  },
  {
   "cell_type": "code",
   "execution_count": 0,
   "metadata": {
    "application/vnd.databricks.v1+cell": {
     "cellMetadata": {
      "byteLimit": 2048000,
      "implicitDf": true,
      "rowLimit": 10000
     },
     "inputWidgets": {},
     "nuid": "9ccd60f6-6531-440d-b1bb-e9d83fa7f11a",
     "showTitle": false,
     "tableResultSettingsMap": {},
     "title": ""
    }
   },
   "outputs": [
    {
     "output_type": "display_data",
     "data": {
      "text/html": [
       "<style scoped>\n",
       "  .table-result-container {\n",
       "    max-height: 300px;\n",
       "    overflow: auto;\n",
       "  }\n",
       "  table, th, td {\n",
       "    border: 1px solid black;\n",
       "    border-collapse: collapse;\n",
       "  }\n",
       "  th, td {\n",
       "    padding: 5px;\n",
       "  }\n",
       "  th {\n",
       "    text-align: left;\n",
       "  }\n",
       "</style><div class='table-result-container'><table class='table-result'><thead style='background-color: white'><tr><th>id</th><th>course</th><th>fee</th></tr></thead><tbody><tr><td>2</td><td>spark</td><td>4000</td></tr><tr><td>3</td><td>pyspark</td><td>4000</td></tr><tr><td>4</td><td>spark</td><td>5000</td></tr><tr><td>2</td><td>prick</td><td>40440</td></tr><tr><td>3</td><td>jack</td><td>400</td></tr><tr><td>4</td><td>loath</td><td>500</td></tr><tr><td>1</td><td>python</td><td>5000</td></tr><tr><td>1</td><td>python</td><td>5000</td></tr><tr><td>6</td><td>scala</td><td>10000</td></tr><tr><td>7</td><td>java</td><td>15000</td></tr></tbody></table></div>"
      ]
     },
     "metadata": {
      "application/vnd.databricks.v1+output": {
       "addedWidgets": {},
       "aggData": [],
       "aggError": "",
       "aggOverflow": false,
       "aggSchema": [],
       "aggSeriesLimitReached": false,
       "aggType": "",
       "arguments": {},
       "columnCustomDisplayInfos": {},
       "data": [
        [
         2,
         "spark",
         4000
        ],
        [
         3,
         "pyspark",
         4000
        ],
        [
         4,
         "spark",
         5000
        ],
        [
         2,
         "prick",
         40440
        ],
        [
         3,
         "jack",
         400
        ],
        [
         4,
         "loath",
         500
        ],
        [
         1,
         "python",
         5000
        ],
        [
         1,
         "python",
         5000
        ],
        [
         6,
         "scala",
         10000
        ],
        [
         7,
         "java",
         15000
        ]
       ],
       "datasetInfos": [
        {
         "name": "_sqldf",
         "schema": {
          "fields": [
           {
            "metadata": {},
            "name": "id",
            "nullable": true,
            "type": "long"
           },
           {
            "metadata": {},
            "name": "course",
            "nullable": true,
            "type": "string"
           },
           {
            "metadata": {},
            "name": "fee",
            "nullable": true,
            "type": "long"
           }
          ],
          "type": "struct"
         },
         "tableIdentifier": null,
         "typeStr": "pyspark.sql.connect.dataframe.DataFrame"
        }
       ],
       "dbfsResultPath": null,
       "isJsonSchema": true,
       "metadata": {
        "createTempViewForImplicitDf": true,
        "dataframeName": "_sqldf",
        "executionCount": 31
       },
       "overflow": false,
       "plotOptions": {
        "customPlotOptions": {},
        "displayType": "table",
        "pivotAggregation": null,
        "pivotColumns": null,
        "xColumns": null,
        "yColumns": null
       },
       "removedWidgets": [],
       "schema": [
        {
         "metadata": "{}",
         "name": "id",
         "type": "\"long\""
        },
        {
         "metadata": "{}",
         "name": "course",
         "type": "\"string\""
        },
        {
         "metadata": "{}",
         "name": "fee",
         "type": "\"long\""
        }
       ],
       "type": "table"
      }
     },
     "output_type": "display_data"
    }
   ],
   "source": [
    "%sql\n",
    "--current data\n",
    "select * from delta.`/Volumes/workspace/default/DML`"
   ]
  },
  {
   "cell_type": "code",
   "execution_count": 0,
   "metadata": {
    "application/vnd.databricks.v1+cell": {
     "cellMetadata": {
      "byteLimit": 2048000,
      "implicitDf": true,
      "rowLimit": 10000
     },
     "collapsed": true,
     "inputWidgets": {},
     "nuid": "ed241df0-6997-41d0-861b-76530a7b53cb",
     "showTitle": false,
     "tableResultSettingsMap": {},
     "title": ""
    }
   },
   "outputs": [
    {
     "output_type": "display_data",
     "data": {
      "text/html": [
       "<style scoped>\n",
       "  .table-result-container {\n",
       "    max-height: 300px;\n",
       "    overflow: auto;\n",
       "  }\n",
       "  table, th, td {\n",
       "    border: 1px solid black;\n",
       "    border-collapse: collapse;\n",
       "  }\n",
       "  th, td {\n",
       "    padding: 5px;\n",
       "  }\n",
       "  th {\n",
       "    text-align: left;\n",
       "  }\n",
       "</style><div class='table-result-container'><table class='table-result'><thead style='background-color: white'><tr><th>table_size_after_restore</th><th>num_of_files_after_restore</th><th>num_removed_files</th><th>num_restored_files</th><th>removed_files_size</th><th>restored_files_size</th></tr></thead><tbody><tr><td>2216</td><td>2</td><td>1</td><td>2</td><td>1242</td><td>2216</td></tr></tbody></table></div>"
      ]
     },
     "metadata": {
      "application/vnd.databricks.v1+output": {
       "addedWidgets": {},
       "aggData": [],
       "aggError": "",
       "aggOverflow": false,
       "aggSchema": [],
       "aggSeriesLimitReached": false,
       "aggType": "",
       "arguments": {},
       "columnCustomDisplayInfos": {},
       "data": [
        [
         2216,
         2,
         1,
         2,
         1242,
         2216
        ]
       ],
       "datasetInfos": [
        {
         "name": "_sqldf",
         "schema": {
          "fields": [
           {
            "metadata": {},
            "name": "table_size_after_restore",
            "nullable": true,
            "type": "long"
           },
           {
            "metadata": {},
            "name": "num_of_files_after_restore",
            "nullable": true,
            "type": "long"
           },
           {
            "metadata": {},
            "name": "num_removed_files",
            "nullable": true,
            "type": "long"
           },
           {
            "metadata": {},
            "name": "num_restored_files",
            "nullable": true,
            "type": "long"
           },
           {
            "metadata": {},
            "name": "removed_files_size",
            "nullable": true,
            "type": "long"
           },
           {
            "metadata": {},
            "name": "restored_files_size",
            "nullable": true,
            "type": "long"
           }
          ],
          "type": "struct"
         },
         "tableIdentifier": null,
         "typeStr": "pyspark.sql.connect.dataframe.DataFrame"
        }
       ],
       "dbfsResultPath": null,
       "isJsonSchema": true,
       "metadata": {
        "createTempViewForImplicitDf": true,
        "dataframeName": "_sqldf",
        "executionCount": 33
       },
       "overflow": false,
       "plotOptions": {
        "customPlotOptions": {},
        "displayType": "table",
        "pivotAggregation": null,
        "pivotColumns": null,
        "xColumns": null,
        "yColumns": null
       },
       "removedWidgets": [],
       "schema": [
        {
         "metadata": "{}",
         "name": "table_size_after_restore",
         "type": "\"long\""
        },
        {
         "metadata": "{}",
         "name": "num_of_files_after_restore",
         "type": "\"long\""
        },
        {
         "metadata": "{}",
         "name": "num_removed_files",
         "type": "\"long\""
        },
        {
         "metadata": "{}",
         "name": "num_restored_files",
         "type": "\"long\""
        },
        {
         "metadata": "{}",
         "name": "removed_files_size",
         "type": "\"long\""
        },
        {
         "metadata": "{}",
         "name": "restored_files_size",
         "type": "\"long\""
        }
       ],
       "type": "table"
      }
     },
     "output_type": "display_data"
    }
   ],
   "source": [
    "%sql\n",
    "--time travelling \n",
    "restore delta.`/Volumes/workspace/default/DML` to version as of 1\n",
    "\n",
    "    "
   ]
  },
  {
   "cell_type": "code",
   "execution_count": 0,
   "metadata": {
    "application/vnd.databricks.v1+cell": {
     "cellMetadata": {
      "byteLimit": 2048000,
      "implicitDf": true,
      "rowLimit": 10000
     },
     "inputWidgets": {},
     "nuid": "35b3eed3-7f20-4c99-8b3f-01b3143214ac",
     "showTitle": false,
     "tableResultSettingsMap": {},
     "title": ""
    }
   },
   "outputs": [
    {
     "output_type": "display_data",
     "data": {
      "text/html": [
       "<style scoped>\n",
       "  .table-result-container {\n",
       "    max-height: 300px;\n",
       "    overflow: auto;\n",
       "  }\n",
       "  table, th, td {\n",
       "    border: 1px solid black;\n",
       "    border-collapse: collapse;\n",
       "  }\n",
       "  th, td {\n",
       "    padding: 5px;\n",
       "  }\n",
       "  th {\n",
       "    text-align: left;\n",
       "  }\n",
       "</style><div class='table-result-container'><table class='table-result'><thead style='background-color: white'><tr><th>id</th><th>course</th><th>fee</th></tr></thead><tbody><tr><td>1</td><td>pip</td><td>3000</td></tr><tr><td>2</td><td>spark</td><td>4000</td></tr><tr><td>3</td><td>pyspark</td><td>4000</td></tr><tr><td>4</td><td>spark</td><td>5000</td></tr><tr><td>1</td><td>crip</td><td>30550</td></tr><tr><td>2</td><td>prick</td><td>40440</td></tr><tr><td>3</td><td>jack</td><td>400</td></tr><tr><td>4</td><td>loath</td><td>500</td></tr></tbody></table></div>"
      ]
     },
     "metadata": {
      "application/vnd.databricks.v1+output": {
       "addedWidgets": {},
       "aggData": [],
       "aggError": "",
       "aggOverflow": false,
       "aggSchema": [],
       "aggSeriesLimitReached": false,
       "aggType": "",
       "arguments": {},
       "columnCustomDisplayInfos": {},
       "data": [
        [
         1,
         "pip",
         3000
        ],
        [
         2,
         "spark",
         4000
        ],
        [
         3,
         "pyspark",
         4000
        ],
        [
         4,
         "spark",
         5000
        ],
        [
         1,
         "crip",
         30550
        ],
        [
         2,
         "prick",
         40440
        ],
        [
         3,
         "jack",
         400
        ],
        [
         4,
         "loath",
         500
        ]
       ],
       "datasetInfos": [
        {
         "name": "_sqldf",
         "schema": {
          "fields": [
           {
            "metadata": {},
            "name": "id",
            "nullable": true,
            "type": "long"
           },
           {
            "metadata": {},
            "name": "course",
            "nullable": true,
            "type": "string"
           },
           {
            "metadata": {},
            "name": "fee",
            "nullable": true,
            "type": "long"
           }
          ],
          "type": "struct"
         },
         "tableIdentifier": null,
         "typeStr": "pyspark.sql.connect.dataframe.DataFrame"
        }
       ],
       "dbfsResultPath": null,
       "isJsonSchema": true,
       "metadata": {
        "createTempViewForImplicitDf": true,
        "dataframeName": "_sqldf",
        "executionCount": 34
       },
       "overflow": false,
       "plotOptions": {
        "customPlotOptions": {},
        "displayType": "table",
        "pivotAggregation": null,
        "pivotColumns": null,
        "xColumns": null,
        "yColumns": null
       },
       "removedWidgets": [],
       "schema": [
        {
         "metadata": "{}",
         "name": "id",
         "type": "\"long\""
        },
        {
         "metadata": "{}",
         "name": "course",
         "type": "\"string\""
        },
        {
         "metadata": "{}",
         "name": "fee",
         "type": "\"long\""
        }
       ],
       "type": "table"
      }
     },
     "output_type": "display_data"
    }
   ],
   "source": [
    "%sql\n",
    "-- data restored to version 1 \n",
    "select * from delta.`/Volumes/workspace/default/DML`"
   ]
  },
  {
   "cell_type": "markdown",
   "metadata": {
    "application/vnd.databricks.v1+cell": {
     "cellMetadata": {},
     "inputWidgets": {},
     "nuid": "6da6de6e-2dfb-438e-87a9-e7afcdf11769",
     "showTitle": false,
     "tableResultSettingsMap": {},
     "title": ""
    }
   },
   "source": [
    "**Use version with select statement**"
   ]
  },
  {
   "cell_type": "code",
   "execution_count": 0,
   "metadata": {
    "application/vnd.databricks.v1+cell": {
     "cellMetadata": {
      "byteLimit": 2048000,
      "implicitDf": true,
      "rowLimit": 10000
     },
     "inputWidgets": {},
     "nuid": "27fe0e33-c71f-4718-8d4d-d6ed9f0689cd",
     "showTitle": false,
     "tableResultSettingsMap": {},
     "title": ""
    }
   },
   "outputs": [
    {
     "output_type": "display_data",
     "data": {
      "text/html": [
       "<style scoped>\n",
       "  .table-result-container {\n",
       "    max-height: 300px;\n",
       "    overflow: auto;\n",
       "  }\n",
       "  table, th, td {\n",
       "    border: 1px solid black;\n",
       "    border-collapse: collapse;\n",
       "  }\n",
       "  th, td {\n",
       "    padding: 5px;\n",
       "  }\n",
       "  th {\n",
       "    text-align: left;\n",
       "  }\n",
       "</style><div class='table-result-container'><table class='table-result'><thead style='background-color: white'><tr><th>id</th><th>course</th><th>fee</th></tr></thead><tbody><tr><td>1</td><td>pipt</td><td>3005</td></tr><tr><td>1</td><td>crip</td><td>3005</td></tr><tr><td>2</td><td>spark</td><td>4000</td></tr><tr><td>3</td><td>pyspark</td><td>4000</td></tr><tr><td>4</td><td>spark</td><td>5000</td></tr><tr><td>2</td><td>prick</td><td>40440</td></tr><tr><td>3</td><td>jack</td><td>400</td></tr><tr><td>4</td><td>loath</td><td>500</td></tr></tbody></table></div>"
      ]
     },
     "metadata": {
      "application/vnd.databricks.v1+output": {
       "addedWidgets": {},
       "aggData": [],
       "aggError": "",
       "aggOverflow": false,
       "aggSchema": [],
       "aggSeriesLimitReached": false,
       "aggType": "",
       "arguments": {},
       "columnCustomDisplayInfos": {},
       "data": [
        [
         1,
         "pipt",
         3005
        ],
        [
         1,
         "crip",
         3005
        ],
        [
         2,
         "spark",
         4000
        ],
        [
         3,
         "pyspark",
         4000
        ],
        [
         4,
         "spark",
         5000
        ],
        [
         2,
         "prick",
         40440
        ],
        [
         3,
         "jack",
         400
        ],
        [
         4,
         "loath",
         500
        ]
       ],
       "datasetInfos": [
        {
         "name": "_sqldf",
         "schema": {
          "fields": [
           {
            "metadata": {},
            "name": "id",
            "nullable": true,
            "type": "long"
           },
           {
            "metadata": {},
            "name": "course",
            "nullable": true,
            "type": "string"
           },
           {
            "metadata": {},
            "name": "fee",
            "nullable": true,
            "type": "long"
           }
          ],
          "type": "struct"
         },
         "tableIdentifier": null,
         "typeStr": "pyspark.sql.connect.dataframe.DataFrame"
        }
       ],
       "dbfsResultPath": null,
       "isJsonSchema": true,
       "metadata": {
        "createTempViewForImplicitDf": true,
        "dataframeName": "_sqldf",
        "executionCount": 38
       },
       "overflow": false,
       "plotOptions": {
        "customPlotOptions": {},
        "displayType": "table",
        "pivotAggregation": null,
        "pivotColumns": null,
        "xColumns": null,
        "yColumns": null
       },
       "removedWidgets": [],
       "schema": [
        {
         "metadata": "{}",
         "name": "id",
         "type": "\"long\""
        },
        {
         "metadata": "{}",
         "name": "course",
         "type": "\"string\""
        },
        {
         "metadata": "{}",
         "name": "fee",
         "type": "\"long\""
        }
       ],
       "type": "table"
      }
     },
     "output_type": "display_data"
    }
   ],
   "source": [
    "%sql\n",
    "-- data restored to version 1 and we can we version with SELECT statement\n",
    "select * from delta.`/Volumes/workspace/default/DML`\n",
    "version as of 5"
   ]
  },
  {
   "cell_type": "markdown",
   "metadata": {
    "application/vnd.databricks.v1+cell": {
     "cellMetadata": {},
     "inputWidgets": {},
     "nuid": "65ed02ca-6143-4bde-a54c-dc70fcdbd888",
     "showTitle": false,
     "tableResultSettingsMap": {},
     "title": ""
    }
   },
   "source": [
    "**we can use timestamp instead of version**"
   ]
  },
  {
   "cell_type": "code",
   "execution_count": 0,
   "metadata": {
    "application/vnd.databricks.v1+cell": {
     "cellMetadata": {
      "byteLimit": 2048000,
      "implicitDf": true,
      "rowLimit": 10000
     },
     "inputWidgets": {},
     "nuid": "ee6a87dd-69c9-4987-8282-27d2e4eec530",
     "showTitle": false,
     "tableResultSettingsMap": {},
     "title": ""
    }
   },
   "outputs": [
    {
     "output_type": "display_data",
     "data": {
      "text/html": [
       "<style scoped>\n",
       "  .table-result-container {\n",
       "    max-height: 300px;\n",
       "    overflow: auto;\n",
       "  }\n",
       "  table, th, td {\n",
       "    border: 1px solid black;\n",
       "    border-collapse: collapse;\n",
       "  }\n",
       "  th, td {\n",
       "    padding: 5px;\n",
       "  }\n",
       "  th {\n",
       "    text-align: left;\n",
       "  }\n",
       "</style><div class='table-result-container'><table class='table-result'><thead style='background-color: white'><tr><th>id</th><th>course</th><th>fee</th></tr></thead><tbody><tr><td>1</td><td>crip</td><td>3005</td></tr><tr><td>2</td><td>spark</td><td>4000</td></tr><tr><td>3</td><td>pyspark</td><td>4000</td></tr><tr><td>4</td><td>spark</td><td>5000</td></tr><tr><td>2</td><td>prick</td><td>40440</td></tr><tr><td>3</td><td>jack</td><td>400</td></tr><tr><td>4</td><td>loath</td><td>500</td></tr><tr><td>1</td><td>pipt</td><td>3005</td></tr></tbody></table></div>"
      ]
     },
     "metadata": {
      "application/vnd.databricks.v1+output": {
       "addedWidgets": {},
       "aggData": [],
       "aggError": "",
       "aggOverflow": false,
       "aggSchema": [],
       "aggSeriesLimitReached": false,
       "aggType": "",
       "arguments": {},
       "columnCustomDisplayInfos": {},
       "data": [
        [
         1,
         "crip",
         3005
        ],
        [
         2,
         "spark",
         4000
        ],
        [
         3,
         "pyspark",
         4000
        ],
        [
         4,
         "spark",
         5000
        ],
        [
         2,
         "prick",
         40440
        ],
        [
         3,
         "jack",
         400
        ],
        [
         4,
         "loath",
         500
        ],
        [
         1,
         "pipt",
         3005
        ]
       ],
       "datasetInfos": [
        {
         "name": "_sqldf",
         "schema": {
          "fields": [
           {
            "metadata": {},
            "name": "id",
            "nullable": true,
            "type": "long"
           },
           {
            "metadata": {},
            "name": "course",
            "nullable": true,
            "type": "string"
           },
           {
            "metadata": {},
            "name": "fee",
            "nullable": true,
            "type": "long"
           }
          ],
          "type": "struct"
         },
         "tableIdentifier": null,
         "typeStr": "pyspark.sql.connect.dataframe.DataFrame"
        }
       ],
       "dbfsResultPath": null,
       "isJsonSchema": true,
       "metadata": {
        "createTempViewForImplicitDf": true,
        "dataframeName": "_sqldf",
        "executionCount": 41
       },
       "overflow": false,
       "plotOptions": {
        "customPlotOptions": {},
        "displayType": "table",
        "pivotAggregation": null,
        "pivotColumns": null,
        "xColumns": null,
        "yColumns": null
       },
       "removedWidgets": [],
       "schema": [
        {
         "metadata": "{}",
         "name": "id",
         "type": "\"long\""
        },
        {
         "metadata": "{}",
         "name": "course",
         "type": "\"string\""
        },
        {
         "metadata": "{}",
         "name": "fee",
         "type": "\"long\""
        }
       ],
       "type": "table"
      }
     },
     "output_type": "display_data"
    }
   ],
   "source": [
    "%sql\n",
    "select * from delta.`/Volumes/workspace/default/DML`\n",
    "timestamp as of '2025-07-13T15:01:35.000+00:00'"
   ]
  },
  {
   "cell_type": "markdown",
   "metadata": {
    "application/vnd.databricks.v1+cell": {
     "cellMetadata": {},
     "inputWidgets": {},
     "nuid": "42a32086-04cd-480b-acbf-1a5f6286f9a8",
     "showTitle": false,
     "tableResultSettingsMap": {},
     "title": ""
    }
   },
   "source": [
    "# \uD83E\uDDF9 Delta Lake: VACUUM and `_delta_log` Retention\n",
    "\n",
    "Delta Lake provides features like **time travel**, **version history**, and **ACID transactions**. Two important mechanisms to manage storage and performance are:\n",
    "\n",
    "- **`VACUUM`** – to clean up old **data files**\n",
    "- **`_delta_log` retention** – to manage **transaction log history**\n",
    "\n",
    "---\n",
    "\n",
    "## ✅ 1. VACUUM in Delta Lake\n",
    "\n",
    "### \uD83D\uDD0D What is VACUUM?\n",
    "\n",
    "`VACUUM` removes **physically unused files** from the storage layer. These files become obsolete after operations like:\n",
    "\n",
    "- `DELETE`\n",
    "- `UPDATE`\n",
    "- `MERGE`\n",
    "- `OPTIMIZE`\n",
    "\n",
    "Delta retains old files temporarily for time travel and rollback.\n",
    "\n",
    "---\n",
    "\n",
    "### ⏱️ Default Retention\n",
    "\n",
    "- Delta Lake keeps unused data files for **7 days** by default.\n",
    "- This allows time travel using older versions (within 7 days).\n",
    "\n",
    "---\n",
    "\n",
    "### \uD83E\uDDEA Syntax Examples\n",
    "\n",
    "```sql\n",
    "-- Default behavior: keeps last 7 days' files\n",
    "VACUUM my_table;\n",
    "\n",
    "-- Force delete all old files immediately (⚠️ no time travel possible)\n",
    "VACUUM my_table RETAIN 0 HOURS;\n",
    "\n",
    "\n",
    "\n",
    "\n"
   ]
  },
  {
   "cell_type": "markdown",
   "metadata": {
    "application/vnd.databricks.v1+cell": {
     "cellMetadata": {},
     "inputWidgets": {},
     "nuid": "e35e19a2-1792-4e98-83e1-b041bfd34c4c",
     "showTitle": false,
     "tableResultSettingsMap": {},
     "title": ""
    }
   },
   "source": [
    "## ⏳ Default Log Retention\n",
    "\n",
    "Delta keeps logs in `_delta_log/` for **30 days** by default.\n",
    "\n",
    "Older logs may be cleaned automatically based on retention rules.\n",
    "\n",
    "---\n",
    "\n",
    "## \uD83D\uDEE0️ Configure Log Retention\n",
    "\n",
    "```sql\n",
    "-- Change log retention to 10 days\n",
    "ALTER TABLE my_table SET TBLPROPERTIES (\n",
    "  'delta.logRetentionDuration' = 'interval 10 days'\n",
    ");\n",
    "\n",
    "-- Keep logs forever (not recommended for large tables)\n",
    "ALTER TABLE my_table SET TBLPROPERTIES (\n",
    "  'delta.logRetentionDuration' = 'interval 0 days'\n",
    ");"
   ]
  },
  {
   "cell_type": "markdown",
   "metadata": {
    "application/vnd.databricks.v1+cell": {
     "cellMetadata": {},
     "inputWidgets": {},
     "nuid": "58c315bf-e7ed-49b8-a862-e23b571436a6",
     "showTitle": false,
     "tableResultSettingsMap": {},
     "title": ""
    }
   },
   "source": [
    "# \uD83D\uDCCB Cloning in Delta Lake\n",
    "\n",
    "Delta Lake supports a powerful feature called **cloning**, which lets you create a copy of a table at a specific **point in time or version** — **even if the original table doesn’t have a timestamp column**.\n",
    "\n",
    "---\n",
    "\n",
    "## \uD83D\uDD0D What is a Clone?\n",
    "\n",
    "Delta supports two types of clones:\n",
    "\n",
    "| Type            | Description                                          |\n",
    "|-----------------|------------------------------------------------------|\n",
    "| `SHALLOW CLONE` | Creates a reference to the original data files (fast, storage-efficient) |\n",
    "| `DEEP CLONE`    | Physically copies data and metadata (independent copy) |\n",
    "\n",
    "---\n",
    "\n",
    "## ✅ Syntax: Clone Current Table\n",
    "\n",
    "```sql\n",
    "-- Shallow clone\n",
    "CREATE OR REPLACE TABLE my_clone SHALLOW CLONE my_table;\n",
    "\n",
    "-- Deep clone\n",
    "CREATE OR REPLACE TABLE my_deep_clone DEEP CLONE my_table;\n"
   ]
  },
  {
   "cell_type": "code",
   "execution_count": 0,
   "metadata": {
    "application/vnd.databricks.v1+cell": {
     "cellMetadata": {
      "byteLimit": 2048000,
      "implicitDf": true,
      "rowLimit": 10000
     },
     "inputWidgets": {},
     "nuid": "80580883-77c7-452e-bdcf-5d1562594504",
     "showTitle": false,
     "tableResultSettingsMap": {},
     "title": ""
    }
   },
   "outputs": [
    {
     "output_type": "display_data",
     "data": {
      "text/html": [
       "<style scoped>\n",
       "  .table-result-container {\n",
       "    max-height: 300px;\n",
       "    overflow: auto;\n",
       "  }\n",
       "  table, th, td {\n",
       "    border: 1px solid black;\n",
       "    border-collapse: collapse;\n",
       "  }\n",
       "  th, td {\n",
       "    padding: 5px;\n",
       "  }\n",
       "  th {\n",
       "    text-align: left;\n",
       "  }\n",
       "</style><div class='table-result-container'><table class='table-result'><thead style='background-color: white'><tr><th>source_table_size</th><th>source_num_of_files</th><th>num_of_synced_transactions</th><th>num_removed_files</th><th>num_copied_files</th><th>removed_files_size</th><th>copied_files_size</th></tr></thead><tbody><tr><td>2216</td><td>2</td><td>null</td><td>0</td><td>2</td><td>0</td><td>2216</td></tr></tbody></table></div>"
      ]
     },
     "metadata": {
      "application/vnd.databricks.v1+output": {
       "addedWidgets": {},
       "aggData": [],
       "aggError": "",
       "aggOverflow": false,
       "aggSchema": [],
       "aggSeriesLimitReached": false,
       "aggType": "",
       "arguments": {},
       "columnCustomDisplayInfos": {},
       "data": [
        [
         2216,
         2,
         null,
         0,
         2,
         0,
         2216
        ]
       ],
       "datasetInfos": [
        {
         "name": "_sqldf",
         "schema": {
          "fields": [
           {
            "metadata": {},
            "name": "source_table_size",
            "nullable": true,
            "type": "long"
           },
           {
            "metadata": {},
            "name": "source_num_of_files",
            "nullable": true,
            "type": "long"
           },
           {
            "metadata": {},
            "name": "num_of_synced_transactions",
            "nullable": true,
            "type": "long"
           },
           {
            "metadata": {},
            "name": "num_removed_files",
            "nullable": true,
            "type": "long"
           },
           {
            "metadata": {},
            "name": "num_copied_files",
            "nullable": true,
            "type": "long"
           },
           {
            "metadata": {},
            "name": "removed_files_size",
            "nullable": true,
            "type": "long"
           },
           {
            "metadata": {},
            "name": "copied_files_size",
            "nullable": true,
            "type": "long"
           }
          ],
          "type": "struct"
         },
         "tableIdentifier": null,
         "typeStr": "pyspark.sql.connect.dataframe.DataFrame"
        }
       ],
       "dbfsResultPath": null,
       "isJsonSchema": true,
       "metadata": {
        "createTempViewForImplicitDf": true,
        "dataframeName": "_sqldf",
        "executionCount": 49
       },
       "overflow": false,
       "plotOptions": {
        "customPlotOptions": {},
        "displayType": "table",
        "pivotAggregation": null,
        "pivotColumns": null,
        "xColumns": null,
        "yColumns": null
       },
       "removedWidgets": [],
       "schema": [
        {
         "metadata": "{}",
         "name": "source_table_size",
         "type": "\"long\""
        },
        {
         "metadata": "{}",
         "name": "source_num_of_files",
         "type": "\"long\""
        },
        {
         "metadata": "{}",
         "name": "num_of_synced_transactions",
         "type": "\"long\""
        },
        {
         "metadata": "{}",
         "name": "num_removed_files",
         "type": "\"long\""
        },
        {
         "metadata": "{}",
         "name": "num_copied_files",
         "type": "\"long\""
        },
        {
         "metadata": "{}",
         "name": "removed_files_size",
         "type": "\"long\""
        },
        {
         "metadata": "{}",
         "name": "copied_files_size",
         "type": "\"long\""
        }
       ],
       "type": "table"
      }
     },
     "output_type": "display_data"
    }
   ],
   "source": [
    "%sql\n",
    "create table workspace.default.cloning_tabel clone delta.`/Volumes/workspace/default/DML`\n",
    "    \n"
   ]
  },
  {
   "cell_type": "markdown",
   "metadata": {
    "application/vnd.databricks.v1+cell": {
     "cellMetadata": {},
     "inputWidgets": {},
     "nuid": "ed158ae0-fb07-4812-8896-95d55427e91e",
     "showTitle": false,
     "tableResultSettingsMap": {},
     "title": ""
    }
   },
   "source": [
    "# \uD83D\uDE80 OPTIMIZE and Z-ORDER in Delta Lake\n",
    "\n",
    "Delta Lake provides powerful commands to improve performance on large datasets. Two important features for file management and query optimization are:\n",
    "\n",
    "- \uD83D\uDD27 `OPTIMIZE` – reduces small files by compaction\n",
    "- \uD83E\uDDED `Z-ORDER` – improves query performance by co-locating related data\n",
    "\n",
    "---\n",
    "\n",
    "## \uD83D\uDD27 OPTIMIZE in Delta Lake\n",
    "\n",
    "### \uD83D\uDCCC What It Does\n",
    "\n",
    "`OPTIMIZE` compacts many small files in a Delta table into fewer large files. This improves:\n",
    "\n",
    "- Query performance (less file scanning)\n",
    "- Data skipping\n",
    "- Cost efficiency on cloud storage\n",
    "\n",
    "### \uD83E\uDDEA Syntax\n",
    "\n",
    "```sql\n",
    "OPTIMIZE table_name;\n"
   ]
  },
  {
   "cell_type": "markdown",
   "metadata": {
    "application/vnd.databricks.v1+cell": {
     "cellMetadata": {},
     "inputWidgets": {},
     "nuid": "f4528504-7010-4058-9f96-6dc03cecd9d9",
     "showTitle": false,
     "tableResultSettingsMap": {},
     "title": ""
    }
   },
   "source": [
    "OPTIMIZE sales_data ZORDER BY (customer_id);\n",
    "This tells Delta Lake to reorganize the data so rows with similar customer_id values are stored near each other."
   ]
  },
  {
   "cell_type": "markdown",
   "metadata": {
    "application/vnd.databricks.v1+cell": {
     "cellMetadata": {},
     "inputWidgets": {},
     "nuid": "85774b2c-6ddd-4cfd-a286-aa7b852cc787",
     "showTitle": false,
     "tableResultSettingsMap": {},
     "title": ""
    }
   },
   "source": [
    "\n",
    "# \uD83D\uDCA7 Liquid Clustering in Delta Lake\n",
    "\n",
    "Delta Lake introduces **Liquid Clustering** to overcome the limitations of traditional static partitioning and Z-Ordering.\n",
    "\n",
    "---\n",
    "\n",
    "## \uD83D\uDD0D What is Liquid Clustering?\n",
    "\n",
    "**Liquid Clustering** allows you to **cluster your Delta table dynamically** based on one or more columns — without needing strict partitions or frequent reorganization via `OPTIMIZE`.\n",
    "\n",
    "> Think of it as **\"auto-optimized Z-ORDER + partitioning\"** — but more flexible, efficient, and scalable.\n",
    "\n",
    "---\n",
    "\n",
    "## \uD83E\uDDE0 Why Use It?\n",
    "\n",
    "| Problem with Traditional Methods        | How Liquid Clustering Helps                     |\n",
    "|----------------------------------------|--------------------------------------------------|\n",
    "| Manual partitions can become skewed    | Clustering is dynamic and adaptive              |\n",
    "| `OPTIMIZE ZORDER` is compute-intensive | Delta engine clusters data during write         |\n",
    "| Hard to maintain over time             | Requires **no manual optimization**             |\n",
    "\n",
    "---\n",
    "\n",
    "## ✅ How to Enable Liquid Clustering\n",
    "\n",
    "You need to **set clustering columns** on the Delta table.\n",
    "\n",
    "### \uD83D\uDCCC Example:\n",
    "\n",
    "```sql\n",
    "ALTER TABLE orders\n",
    "SET TBLPROPERTIES (\n",
    "  'delta.autoOptimize.optimizeWrite' = true,\n",
    "  'delta.autoOptimize.autoCompact' = true,\n",
    "  'delta.clusteredBy' = 'customer_id',\n",
    "  'delta.clusteredBy.maxBuckets' = '100'\n",
    ");\n"
   ]
  }
 ],
 "metadata": {
  "application/vnd.databricks.v1+notebook": {
   "computePreferences": null,
   "dashboards": [],
   "environmentMetadata": {
    "base_environment": "",
    "environment_version": "2"
   },
   "inputWidgetPreferences": null,
   "language": "python",
   "notebookMetadata": {
    "mostRecentlyExecutedCommandWithImplicitDF": {
     "commandId": 6088090108604747,
     "dataframes": [
      "_sqldf"
     ]
    },
    "pythonIndentUnit": 4
   },
   "notebookName": "Understanding_Delta_lake",
   "widgets": {}
  },
  "language_info": {
   "name": "python"
  }
 },
 "nbformat": 4,
 "nbformat_minor": 0
}